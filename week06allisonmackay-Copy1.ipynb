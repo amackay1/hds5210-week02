{
 "cells": [
  {
   "cell_type": "markdown",
   "metadata": {},
   "source": [
    "1 - Creating a list from a string\n",
    "\n",
    "\n",
    "Take the single string exactly like this \"Amoxicillin, Digoxin, Metoprolol Tartrate, Motrin\" and create an array that has one item each, with the names in all lowercase and with no extra spaces at the beginning or end.\n",
    "\n",
    "\n",
    "drugs = \"Amoxicillin, Digoxin, Metoprolol Tartrate, Motrin\"\n",
    "\n",
    "\n",
    "Desired output:\n",
    "['amoxicillin','dignoxin','metroprolol tartrate','motrin']"
   ]
  },
  {
   "cell_type": "code",
   "execution_count": 1,
   "metadata": {
    "collapsed": false
   },
   "outputs": [
    {
     "data": {
      "text/plain": [
       "['Amoxicillin', ' Digoxin', ' Metoprolol Tartrate', ' Motrin']"
      ]
     },
     "execution_count": 1,
     "metadata": {},
     "output_type": "execute_result"
    }
   ],
   "source": [
    "drugs = \"Amoxicillin, Digoxin, Metoprolol Tartrate, Motrin\"\n",
    "drugs.split (',')"
   ]
  },
  {
   "cell_type": "code",
   "execution_count": 2,
   "metadata": {
    "collapsed": false
   },
   "outputs": [
    {
     "data": {
      "text/plain": [
       "['amoxicillin', 'digoxin', 'metoprolol tartrate', 'motrin']"
      ]
     },
     "execution_count": 2,
     "metadata": {},
     "output_type": "execute_result"
    }
   ],
   "source": [
    "[drugs.lower() for drugs in ['Amoxicillin', 'Digoxin', 'Metoprolol Tartrate', 'Motrin'] ]"
   ]
  },
  {
   "cell_type": "markdown",
   "metadata": {},
   "source": [
    "2 - Filtering a list\n",
    "\n",
    "\n",
    "The appropriate limit for Digoxin is 12 mcg/kg. Starting with the list of dosages below, loop through and create a new list that contains on the dosages that are within the allowed amounts for a patient who weighs 50 kg.\n",
    "\n",
    "\n",
    "allow = []\n",
    "available = [['Digoxin',170,'mgc'],\n",
    "             ['Digoxin',280,'mgc'],\n",
    "             ['Digoxin',500,'mgc'],\n",
    "             ['Digoxin',680,'mgc'],\n",
    "             ['Digoxin',1000,'mgc']]\n",
    "             \n",
    "             \n",
    "Desired output for the value of allow\n",
    "[['Digoxin', 170, 'mgc'], ['Digoxin', 280, 'mgc'], ['Digoxin', 500, 'mgc']]"
   ]
  },
  {
   "cell_type": "code",
   "execution_count": 3,
   "metadata": {
    "collapsed": false
   },
   "outputs": [
    {
     "data": {
      "text/plain": [
       "[['Digoxin', 170, 'mgc'], ['Digoxin', 280, 'mgc'], ['Digoxin', 500, 'mgc']]"
      ]
     },
     "execution_count": 3,
     "metadata": {},
     "output_type": "execute_result"
    }
   ],
   "source": [
    "allow = []\n",
    "available = [['Digoxin',170,'mgc'], \n",
    "             ['Digoxin',280,'mgc'],\n",
    "             ['Digoxin',500,'mgc'],\n",
    "             ['Digoxin',680,'mgc'], \n",
    "             ['Digoxin',1000,'mgc']]\n",
    "taken_amount = []\n",
    "\n",
    "limit = 12 * 50\n",
    "for i in range(len(available)):\n",
    "    if available [i][1] <= limit:\n",
    "        allow.append(available[i])\n",
    "\n",
    "\n",
    "\n",
    "allow"
   ]
  },
  {
   "cell_type": "markdown",
   "metadata": {},
   "source": [
    "3 - While\n",
    "\n",
    "\n",
    "Starting with this list ['amoxicillin','dignoxin','metroprolol tartrate','motrin'], create a comma separated list that contains as many values as possible without being longer that 20 total characters in length.\n",
    "\n",
    "\n",
    "druglist = ['amoxicillin','dignoxin','metroprolol tartrate','motrin']\n",
    "\n",
    "\n",
    "Desired output:\n",
    "'amoxicillin,dignoxin,'\n",
    "Extra credit if you can do this without the extra comma at the end of the list."
   ]
  },
  {
   "cell_type": "code",
   "execution_count": 4,
   "metadata": {
    "collapsed": false
   },
   "outputs": [
    {
     "data": {
      "text/plain": [
       "['amoxicillin, dignoxin, metroprolol tartrate, motrin']"
      ]
     },
     "execution_count": 4,
     "metadata": {},
     "output_type": "execute_result"
    }
   ],
   "source": [
    "druglist = ['amoxicillin, dignoxin, metroprolol tartrate, motrin']\n",
    "druglist"
   ]
  },
  {
   "cell_type": "code",
   "execution_count": 5,
   "metadata": {
    "collapsed": false
   },
   "outputs": [
    {
     "data": {
      "text/plain": [
       "49"
      ]
     },
     "execution_count": 5,
     "metadata": {},
     "output_type": "execute_result"
    }
   ],
   "source": [
    "len (drugs)"
   ]
  },
  {
   "cell_type": "code",
   "execution_count": 6,
   "metadata": {
    "collapsed": false
   },
   "outputs": [
    {
     "name": "stdout",
     "output_type": "stream",
     "text": [
      "Amoxicillin, Digoxin\n"
     ]
    }
   ],
   "source": [
    "print (drugs [0:20])"
   ]
  },
  {
   "cell_type": "markdown",
   "metadata": {},
   "source": [
    "Given the list of patients and their weights below, the list of available dosages, and the same limit of 12 mcg/kg, create a list of patients and the dosage they should receive.\n",
    "\n",
    "\n",
    "\n",
    "patients = [['Paul',80],['Eric',55],['Ada',22]]\n",
    "\n",
    "\n",
    "Desired output:\n",
    "[[['Paul',80],['Digoxin',680,'mcg']],\n",
    " [['Eric',65],['Digoxin',500,'mcg']],\n",
    " [['Ada',22],['Digoxin',170,'mcg']]]"
   ]
  },
  {
   "cell_type": "code",
   "execution_count": 12,
   "metadata": {
    "collapsed": false
   },
   "outputs": [],
   "source": [
    "patients = [['Paul',80], ['Eric',55], ['Ada',22]]"
   ]
  },
  {
   "cell_type": "code",
   "execution_count": 13,
   "metadata": {
    "collapsed": true
   },
   "outputs": [],
   "source": [
    "available = [['Digoxin',170,'mgc'], \n",
    "             ['Digoxin',280,'mgc'],\n",
    "             ['Digoxin',500,'mgc'],\n",
    "             ['Digoxin',680,'mgc'], \n",
    "             ['Digoxin',1000,'mgc']]"
   ]
  },
  {
   "cell_type": "code",
   "execution_count": 14,
   "metadata": {
    "collapsed": false
   },
   "outputs": [
    {
     "data": {
      "text/plain": [
       "[[['Paul', 80], ['Digoxin', 680, 'mgc']],\n",
       " [['Eric', 55], ['Digoxin', 500, 'mgc']],\n",
       " [['Ada', 22], ['Digoxin', 170, 'mgc']]]"
      ]
     },
     "execution_count": 14,
     "metadata": {},
     "output_type": "execute_result"
    }
   ],
   "source": [
    "final = []\n",
    "for patient in patients:\n",
    "    for dose in available:\n",
    "        if patient[1]*12 > dose[1]:\n",
    "            safedose = dose\n",
    "    final.append([patient,safedose])\n",
    "final"
   ]
  },
  {
   "cell_type": "code",
   "execution_count": null,
   "metadata": {
    "collapsed": false
   },
   "outputs": [],
   "source": [
    "%%bash\n",
    "cd ~/notebooks/hds5210-week02/\n",
    "git add week06allisonmackay.ipynb\n",
    "git commit -a -m \"Adding homework\"\n",
    "git push"
   ]
  },
  {
   "cell_type": "code",
   "execution_count": null,
   "metadata": {
    "collapsed": true
   },
   "outputs": [],
   "source": []
  }
 ],
 "metadata": {
  "kernelspec": {
   "display_name": "Python 3",
   "language": "python",
   "name": "python3"
  },
  "language_info": {
   "codemirror_mode": {
    "name": "ipython",
    "version": 3
   },
   "file_extension": ".py",
   "mimetype": "text/x-python",
   "name": "python",
   "nbconvert_exporter": "python",
   "pygments_lexer": "ipython3",
   "version": "3.4.3"
  }
 },
 "nbformat": 4,
 "nbformat_minor": 0
}
