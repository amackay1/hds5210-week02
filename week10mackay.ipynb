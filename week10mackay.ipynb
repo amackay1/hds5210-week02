{
 "cells": [
  {
   "cell_type": "markdown",
   "metadata": {},
   "source": [
    "Week 10 - Algorithms\n",
    "\n",
    "For this week's homework, we're only going to solve one problem, but we're going to design a couple of different solutions to it: Reverse Pivot\n",
    "\n",
    "Remember back to the midterm when we did the pivot, here we're going to design algorithms for the reverse of that operation. In Excel terms, this is usually the way a pivot table works.\n",
    "The objective is to take a rectangular list L (rows and columns) and unpivot the last two columns, assuming that the second to last column should be the output column header name, and the last column will be the row in the output. Any missing values should be replaec with None.\n",
    "\n",
    "For example. The input:\n",
    "\n",
    "[[ 'Name',   'Label',  'Value' ],\n",
    "\n",
    " [ 'Boal',   'Week 1',     10  ],\n",
    " \n",
    " [ 'Boal',   'Week 2',     11  ],\n",
    " \n",
    " [ 'Boal',   'Week 3',      7  ],\n",
    " \n",
    " [ 'Westus', 'Week 1',     12  ],\n",
    " \n",
    " [ 'Westus', 'Week 3',      4  ],\n",
    " \n",
    " [ 'Westus', 'Week 4',      9  ]]\n",
    " \n",
    " \n",
    "Should become:\n",
    "\n",
    "[[ 'Name',    'Week 1', 'Week 2', 'Week 3', 'Week 4' ],\n",
    "\n",
    " [ 'Boal',         10,       11,        7,     None  ],\n",
    " \n",
    " [ 'Westus',       12,     None,        4,        9  ]]"
   ]
  },
  {
   "cell_type": "markdown",
   "metadata": {},
   "source": [
    "1 - Algorithm A\n",
    "\n",
    "\n",
    "Write out, in English and pseudocode, one approach to answering this assignment. You don't need to write any Python code.\n",
    "(6 pts)"
   ]
  },
  {
   "cell_type": "code",
   "execution_count": 2,
   "metadata": {
    "collapsed": true
   },
   "outputs": [],
   "source": [
    "# First create a dictionary for each Header; Name: \n",
    "# Next print (dictionary) to ensure that all of the data you have entered is correct and needs no editing\n",
    "# manipulate form so that you create keys\n",
    "# compute weeks, create header for weeks and append output\n",
    "# do the same with people and values\n",
    "#if key is not found, print 'None'\n",
    "#return dictionary"
   ]
  },
  {
   "cell_type": "markdown",
   "metadata": {},
   "source": [
    "2 - Algorithm B\n",
    "\n",
    "Write out, in English and pseudocode, a different approach to answering this assignment. Again, dont' write any Python code.\n",
    "(6 pts)"
   ]
  },
  {
   "cell_type": "code",
   "execution_count": 3,
   "metadata": {
    "collapsed": true
   },
   "outputs": [],
   "source": [
    "# Create two lists; one with Name and Label, the other with Label and Value\n",
    "# define function join_lists\n",
    "# create list function; list = []\n",
    "# call data by using the function for i in range(len(list1):\n",
    "# enter and create function to call data from list2 using the same structure; for l in range(len(list2)):\n",
    "# use -> if list1[i][join1[0]] == list2[l][join2[0]]: to\n",
    "# list1[i].append(list2[l][1]) to pull data from the names of the columns and display their data in the same line\n",
    "#output = list1\n",
    "# pull outputs from 1 and 2 so output.append\n",
    "# return list\n",
    "# ENTER AND START NEW CELL\n",
    "#rewrite both lists to ensure we are pulling the right data\n",
    "# join_lists(list1, list2, [1], [0], [0,1], [1]) to return the information from those particular columns"
   ]
  },
  {
   "cell_type": "markdown",
   "metadata": {},
   "source": [
    "3 - Compare your algorithms\n",
    "\n",
    "Given how each algorithm works, can you make a prediction about which one you think will take longer to run? Explain your thinking with references to line numbers from above.\n",
    "(8 pts)"
   ]
  },
  {
   "cell_type": "code",
   "execution_count": 4,
   "metadata": {
    "collapsed": true
   },
   "outputs": [],
   "source": [
    "# I think the dictionary will run faster because there are less steps which, in turn, is less processing\n",
    "#With less processing, the code would be doing more things in one step than with a list which means less lines of code to run.\n",
    "#less processing because loops in dict are faster than the loops in list"
   ]
  },
  {
   "cell_type": "code",
   "execution_count": 5,
   "metadata": {
    "collapsed": false
   },
   "outputs": [
    {
     "name": "stdout",
     "output_type": "stream",
     "text": [
      "[master b2b8fac] Adding homework\n",
      " 5 files changed, 189 insertions(+), 51 deletions(-)\n"
     ]
    },
    {
     "name": "stderr",
     "output_type": "stream",
     "text": [
      "fatal: pathspec 'week10amackay.ipynb' did not match any files\n",
      "warning: push.default is unset; its implicit value has changed in\n",
      "Git 2.0 from 'matching' to 'simple'. To squelch this message\n",
      "and maintain the traditional behavior, use:\n",
      "\n",
      "  git config --global push.default matching\n",
      "\n",
      "To squelch this message and adopt the new behavior now, use:\n",
      "\n",
      "  git config --global push.default simple\n",
      "\n",
      "When push.default is set to 'matching', git will push local branches\n",
      "to the remote branches that already exist with the same name.\n",
      "\n",
      "Since Git 2.0, Git defaults to the more conservative 'simple'\n",
      "behavior, which only pushes the current branch to the corresponding\n",
      "remote branch that 'git pull' uses to update the current branch.\n",
      "\n",
      "See 'git help config' and search for 'push.default' for further information.\n",
      "(the 'simple' mode was introduced in Git 1.7.11. Use the similar mode\n",
      "'current' instead of 'simple' if you sometimes use older versions of Git)\n",
      "\n",
      "To git@github.com:amackay1/hds5210-week02.git\n",
      "   9024480..b2b8fac  master -> master\n"
     ]
    }
   ],
   "source": [
    "%%bash\n",
    "cd ~/notebooks/hds5210-week02/\n",
    "git add week10amackay.ipynb\n",
    "git commit -a -m \"Adding homework\"\n",
    "git push"
   ]
  }
 ],
 "metadata": {
  "kernelspec": {
   "display_name": "Python 3",
   "language": "python",
   "name": "python3"
  },
  "language_info": {
   "codemirror_mode": {
    "name": "ipython",
    "version": 3
   },
   "file_extension": ".py",
   "mimetype": "text/x-python",
   "name": "python",
   "nbconvert_exporter": "python",
   "pygments_lexer": "ipython3",
   "version": "3.4.3"
  }
 },
 "nbformat": 4,
 "nbformat_minor": 0
}
