{
 "cells": [
  {
   "cell_type": "markdown",
   "metadata": {},
   "source": [
    "The second task is to create another module called joiner that will match updata from one list and line it up with data in another list based on some matching criteria and which fields should be retained from each list. For this example, the comparisons you do should not care about case sensitivity. Your function signature should be:\n",
    "\n",
    "\n",
    "joinlists(list1, list2, joinfields1, joinfields2, outputfields1, outputfields2) \n",
    "list1 = This is the main list that we want to match up data from list2 against. \n",
    "list2 = This is the list where we're going to get some extra information to attach to list1 \n",
    "joinfield1 = Which fields from list1 should be used in the join. \n",
    "joinfield2 = Which fields from list2 should be used to try to match the corresponding value in list1. \n",
    "outputfields1 = The fields from list1 to include in the output\n",
    "outputfields2 = The fields from list2 to incldue in the output\n",
    "\n",
    "\n",
    "Below is an example of what this should do. \n",
    "list1: Last,First,Time,Value Boal,Paul,2015Q1,10 Boal,Paul,2015Q2,9\n",
    "list2: Time,Census 2015q1,932 2015q2,943\n",
    "Sample code: joinlists(list1, list2, [2], [0], [1,2,3,4], [1])\n",
    "Should output: Last,First,Time,Value,Census Boal,Paul,2015Q1,10,932 Boal,Paul,2015Q2,9,943 Note the arrays are displayed as string lists just for my convenience. For those of you familiar with SQL joins, this is effectively a style of inner join."
   ]
  },
  {
   "cell_type": "code",
   "execution_count": 6,
   "metadata": {
    "collapsed": true
   },
   "outputs": [],
   "source": [
    "def join_lists(list1, list2, join1, join2, output1, output2):\n",
    "    \"\"\" (list, list, list, list, list, list) -> list\n",
    "    Use the column positions from left_key and right_key to identify which column to match on.\n",
    "    See the midterm.ipynb for details on how this has to work.  I'm not repeating it here.\n",
    "    I would recommend that you test it with some small datasets like what I showed in the explanation.\n",
    "    \"\"\"\n",
    "    \n",
    "    output = []\n",
    "    for i in range(len(list1)):\n",
    "        for l in range (len(list2)):\n",
    "            if list1[i][join1[0]] == list2[l][join2[0]]:\n",
    "                list1[i].append(list2[l][1])\n",
    "            output=list1\n",
    "            # pull outputs from 1 and 2 so output.append\n",
    "            return output"
   ]
  },
  {
   "cell_type": "code",
   "execution_count": 7,
   "metadata": {
    "collapsed": false
   },
   "outputs": [
    {
     "data": {
      "text/plain": [
       "[['Last', 'First', 'Time', 'Value'],\n",
       " ['Boal', 'Paul', '2015Q1', 10],\n",
       " ['Boal', 'Paul', '2015Q2', 9]]"
      ]
     },
     "execution_count": 7,
     "metadata": {},
     "output_type": "execute_result"
    }
   ],
   "source": [
    "list1 = [['Last','First','Time','Value'],\n",
    "         ['Boal','Paul','2015Q1',10],\n",
    "         ['Boal','Paul','2015Q2',9]]\n",
    "\n",
    "list2 = [['Time','Census'],\n",
    "         ['2015q1',932],\n",
    "         ['2015q2',943]]\n",
    "\n",
    "join_lists(list1, list2, [2], [0], [0,1,2,3], [1])"
   ]
  },
  {
   "cell_type": "code",
   "execution_count": null,
   "metadata": {
    "collapsed": true
   },
   "outputs": [],
   "source": []
  }
 ],
 "metadata": {
  "kernelspec": {
   "display_name": "Python 3",
   "language": "python",
   "name": "python3"
  },
  "language_info": {
   "codemirror_mode": {
    "name": "ipython",
    "version": 3
   },
   "file_extension": ".py",
   "mimetype": "text/x-python",
   "name": "python",
   "nbconvert_exporter": "python",
   "pygments_lexer": "ipython3",
   "version": "3.4.3"
  }
 },
 "nbformat": 4,
 "nbformat_minor": 0
}
