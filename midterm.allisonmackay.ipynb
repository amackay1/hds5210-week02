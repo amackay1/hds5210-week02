{
 "cells": [
  {
   "cell_type": "markdown",
   "metadata": {},
   "source": [
    "import jupyterimporter\n",
    "from csvlist import CsvList\n",
    "from pivot import pivot_columns\n",
    "from joiner import join_lists\n",
    "preexisting = CsvList('/midterm/preexisting.csv')\n",
    "census = CsvList('/midterm/census.csv')\n",
    "\n",
    "\n",
    "pre = pivot_columns(preexisting, list(range(2,38)))\n",
    "cen = pivot_columns(census, list(range(5,12)))\n",
    "\n",
    "# DO SOME PROCESSING TO CLEANUP DATA AS NEEDED\n",
    "\n",
    "out = joinlists(pre, cen, [1,4], [3,5], [1,2,3,4,5], [5])\n"
   ]
  },
  {
   "cell_type": "markdown",
   "metadata": {},
   "source": [
    "Line 1- Import jupyter importer.  This gives you the ability to import other files from jupyter to use the work in those files in your current file without having to re-write the functions/codes.\n",
    "Line 2, 3, 4- Import a specific class from the entire module.  The specific class is the function being defined and has a description and a function written in the class.\n",
    "Line 5, 6- Importing the outside csv files to use with the appropriate module.\n",
    "Line 7, 8- Import a range of data from the existing module importedi n line 3.\n",
    "Line 9- Print/return the information from the lists that has been imported from the modules that have been imported."
   ]
  },
  {
   "cell_type": "code",
   "execution_count": null,
   "metadata": {
    "collapsed": true
   },
   "outputs": [],
   "source": [
    "%%bash\n",
    "git add csvlist.ipynb\n",
    "git add joiner.ipynb\n",
    "git add pivot.ipynb\n",
    "git add midterm.allisonmackay.ipynb\n",
    "git add midterm.allimport.ipynb\n",
    "git commit -a -m \"Submitting my midterm!!\"\n",
    "git push"
   ]
  }
 ],
 "metadata": {
  "kernelspec": {
   "display_name": "Python 3",
   "language": "python",
   "name": "python3"
  },
  "language_info": {
   "codemirror_mode": {
    "name": "ipython",
    "version": 3
   },
   "file_extension": ".py",
   "mimetype": "text/x-python",
   "name": "python",
   "nbconvert_exporter": "python",
   "pygments_lexer": "ipython3",
   "version": "3.4.3"
  }
 },
 "nbformat": 4,
 "nbformat_minor": 0
}
