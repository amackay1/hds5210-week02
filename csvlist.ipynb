{
 "cells": [
  {
   "cell_type": "markdown",
   "metadata": {},
   "source": [
    "One of the things we might want to do a lot of is take a CSV file and turn it into a list of lists, which looks like a rectangular spreadsheet. For the first part of the midterm, create a module called csvlist with a class in it called CsvList. The CsvList class will need the following methods:\n",
    "\n",
    "A constructor (aka init) that take a single parameter, which is the file name A way to retreive a list of the column names that were read from the first line of the file A way to retrieve the actual data rows themselves, which should be available as a list of lists.\n",
    "\n",
    "In parsing data from the file, our CsvList class can assume that the file will always have a header. The code below should be able to work if your module and class are working."
   ]
  },
  {
   "cell_type": "code",
   "execution_count": 1,
   "metadata": {
    "collapsed": false
   },
   "outputs": [],
   "source": [
    "import csv\n",
    "\n",
    "class CsvList:\n",
    "    def __init__(self,file):\n",
    "        \"\"\"\n",
    "        The initializer for CsvList takes a filename as it's parameter.\n",
    "        It will open the file and read the contents into two variables:\n",
    "        * self.header = A list that contains the column headers\n",
    "        * self.data = A list that contains one entry for each row in the file, \n",
    "                      where each of those entries is a list in itself\n",
    "                      that has one entry per column.\n",
    "        \n",
    "        Example:\n",
    "        self.header might look like:\n",
    "            ['Last Name', 'First Name']\n",
    "            \n",
    "        self.data might look like:\n",
    "            [['Boal', 'Paul'], ['Westhus', 'Eric'], ['Lester-Boal', 'Ada']]\n",
    "        \"\"\"\n",
    "        with open(file) as input:\n",
    "            reader = csv.reader(input)\n",
    "            self.header = next(reader)\n",
    "            self.data = []\n",
    "            for row in reader:\n",
    "                self.data.append(row)"
   ]
  },
  {
   "cell_type": "code",
   "execution_count": null,
   "metadata": {
    "collapsed": true
   },
   "outputs": [],
   "source": []
  }
 ],
 "metadata": {
  "kernelspec": {
   "display_name": "Python 3",
   "language": "python",
   "name": "python3"
  },
  "language_info": {
   "codemirror_mode": {
    "name": "ipython",
    "version": 3
   },
   "file_extension": ".py",
   "mimetype": "text/x-python",
   "name": "python",
   "nbconvert_exporter": "python",
   "pygments_lexer": "ipython3",
   "version": "3.4.3"
  }
 },
 "nbformat": 4,
 "nbformat_minor": 0
}
