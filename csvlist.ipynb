{
 "cells": [
  {
   "cell_type": "markdown",
   "metadata": {},
   "source": [
    "One of the things we might want to do a lot of is take a CSV file and turn it into a list of lists, which looks like a rectangular spreadsheet. For the first part of the midterm, create a module called csvlist with a class in it called CsvList. The CsvList class will need the following methods:\n",
    "\n",
    "A constructor (aka init) that take a single parameter, which is the file name A way to retreive a list of the column names that were read from the first line of the file A way to retrieve the actual data rows themselves, which should be available as a list of lists.\n",
    "\n",
    "In parsing data from the file, our CsvList class can assume that the file will always have a header. The code below should be able to work if your module and class are working."
   ]
  },
  {
   "cell_type": "code",
   "execution_count": null,
   "metadata": {
    "collapsed": false
   },
   "outputs": [],
   "source": [
    "class CsvList():\n",
    "    def __init__( self, csv_file ):\n",
    "             \n",
    "        csv_file = open( '/midterm/preexisting.csv', 'r' )\n",
    "        self.header = []\n",
    "        self.data = []\n",
    "        \n",
    "        for line in csv_file:\n",
    "            if line != '\\n' :\n",
    "                self.data.append(line.rstrip().split(','))\n",
    "        for row in csv_file:\n",
    "            self.header.append(row)\n",
    "        for row in csv_file: \n",
    "            self.data.apped(row)\n",
    "       "
   ]
  },
  {
   "cell_type": "code",
   "execution_count": null,
   "metadata": {
    "collapsed": true
   },
   "outputs": [],
   "source": []
  }
 ],
 "metadata": {
  "kernelspec": {
   "display_name": "Python 3",
   "language": "python",
   "name": "python3"
  },
  "language_info": {
   "codemirror_mode": {
    "name": "ipython",
    "version": 3
   },
   "file_extension": ".py",
   "mimetype": "text/x-python",
   "name": "python",
   "nbconvert_exporter": "python",
   "pygments_lexer": "ipython3",
   "version": "3.4.3"
  }
 },
 "nbformat": 4,
 "nbformat_minor": 0
}
