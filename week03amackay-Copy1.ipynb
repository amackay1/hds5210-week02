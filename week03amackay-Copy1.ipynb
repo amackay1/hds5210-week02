{
 "cells": [
  {
   "cell_type": "code",
   "execution_count": 1,
   "metadata": {
    "collapsed": false
   },
   "outputs": [
    {
     "data": {
      "text/plain": [
       "89"
      ]
     },
     "execution_count": 1,
     "metadata": {},
     "output_type": "execute_result"
    }
   ],
   "source": [
    "# 1 Creating Functions\n",
    "# Write a function that will compute the sum of three numbers. Then use that function to calculate the sum of the eight numbers:\n",
    "# 4, 9, 12, 8, 16, 19, 11, 10\n",
    "nums = 4, 9, 12, 8, 16, 19, 11, 10\n",
    "sum_total_nums = sum (nums)\n",
    "sum_total_nums"
   ]
  },
  {
   "cell_type": "code",
   "execution_count": 2,
   "metadata": {
    "collapsed": false
   },
   "outputs": [
    {
     "data": {
      "text/plain": [
       "25"
      ]
     },
     "execution_count": 2,
     "metadata": {},
     "output_type": "execute_result"
    }
   ],
   "source": [
    "def sum_of_3 (x,y,z):\n",
    "   return x+ y+ z\n",
    "sum_of_3 (4,9,12)\n"
   ]
  },
  {
   "cell_type": "code",
   "execution_count": 3,
   "metadata": {
    "collapsed": false
   },
   "outputs": [
    {
     "data": {
      "text/plain": [
       "89"
      ]
     },
     "execution_count": 3,
     "metadata": {},
     "output_type": "execute_result"
    }
   ],
   "source": [
    "sum_of_3 = 4 + 9 + 12\n",
    "sum8 = sum_of_3 + 8 +16 + 19 + 11 +10\n",
    "sum8"
   ]
  },
  {
   "cell_type": "code",
   "execution_count": 4,
   "metadata": {
    "collapsed": false
   },
   "outputs": [
    {
     "name": "stdout",
     "output_type": "stream",
     "text": [
      "The current value of temp is 103\n"
     ]
    }
   ],
   "source": [
    "# 2 Understanding Functions\n",
    "# Try to reason through this set of instruction and determine what the output will be. Check your understanding by running the \n",
    "# code in Jupyter. Then explain why the output is what it is\n",
    "temp = 103\n",
    "\n",
    "def calculate_target (temp):\n",
    "    temp -= 4\n",
    "    return temp\n",
    "\n",
    "calculate_target (temp)\n",
    "\n",
    "print(\"The current value of temp is \" + str(temp))"
   ]
  },
  {
   "cell_type": "code",
   "execution_count": 5,
   "metadata": {
    "collapsed": false
   },
   "outputs": [
    {
     "data": {
      "text/plain": [
       "\" Since the result of the caculate_target(temp) function call is not assigned to anything, it has no bearing on the the value \\nof temp.  That's why the value of temp is 103.\""
      ]
     },
     "execution_count": 5,
     "metadata": {},
     "output_type": "execute_result"
    }
   ],
   "source": [
    "\"\"\" Since the result of the caculate_target(temp) function call is not assigned to anything, it has no bearing on the the value \n",
    "of temp.  That's why the value of temp is 103.\"\"\"  "
   ]
  },
  {
   "cell_type": "code",
   "execution_count": 9,
   "metadata": {
    "collapsed": false
   },
   "outputs": [
    {
     "name": "stdout",
     "output_type": "stream",
     "text": [
      "1.0 10.0 0.75\n"
     ]
    }
   ],
   "source": [
    "# 3 Parsing Dosage Amounts and Units\n",
    "#Create a function that will take as input an infusion dosage value and unit in the format # volume/time such as 45 mg/hr or \n",
    "# 0.2 L/hr, and return just the numeric part of the dosage. It should return the numeric part as a floating point decimal \n",
    "# number so that calculations can easily be done with the number.  Demonstrate that your function works correctly using each \n",
    "# of these tests:  1.0 L/hr  10 mg/hr  0.75 g/day\n",
    "\n",
    "def dose (rate):\n",
    "    \n",
    "    return (float(rate[0:rate.find(' ')]))\n",
    "\n",
    "drug1 = \"1.0 L/hr\"\n",
    "drug2 = \"10.0 mg/hr\"\n",
    "drug3 = \"0.75 g/day\"\n",
    "\n",
    "print (dose(drug1), dose(drug2), dose(drug3))\n",
    "    "
   ]
  },
  {
   "cell_type": "code",
   "execution_count": 12,
   "metadata": {
    "collapsed": false
   },
   "outputs": [],
   "source": [
    "# 4 Parsing and Rewriting a String\n",
    "# Create another function or collection of functions that will take a string in the format drug # volumne/time such as \n",
    "# Asprin 20 mg/hr, and return a string in the format In one hr, the patient will have received 20 mg of Asprin. \n",
    "# Doubling the dosage to 40 mg would be dangerous!. Be sure that you reuse the other functions you've created in this assignment \n",
    "# if possible.  Demonstrate that your function works correctly using these tests:  Asprin 20 mg/hr    Amoxicillin 300 mg/day\n",
    "\n"
   ]
  },
  {
   "cell_type": "code",
   "execution_count": 13,
   "metadata": {
    "collapsed": false
   },
   "outputs": [],
   "source": [
    "def pritn_med(a):\n",
    "    drug=a[0:a.find(' ')]\n",
    "    pos_of_number= a.find(' ')\n",
    "    nunber= int(a[pos_of_number:a.find('/')-2])\n",
    "    value_and_dose= a[pos_of_number:]\n",
    "    pos_value_and_time= value_and_dose.find(' ')+1\n",
    "    unit= value_and_dose[value_and_dose.find(' '): value_and_dose.find('/')]\n",
    "    time= a[a.find('/')+1:]\n",
    "    dub= (2 * number)\n",
    "    \n",
    "    return 'In one' + str(time) + ',the patient will have recieved' + str(number) +\\\n",
    "    str(unit) + ' ' + 'of' + str(drug) + '.  Doubling the dosage to' + str(dub) + str(unit)\\\n",
    "    + 'would be dangerous!'"
   ]
  },
  {
   "cell_type": "code",
   "execution_count": null,
   "metadata": {
    "collapsed": false
   },
   "outputs": [],
   "source": [
    "%%bash\n",
    "cd ~/notebooks/hds5210-week02/\n",
    "add week03amackay-copy1\n",
    "git commit -a -m \"Adding homework\"\n",
    "git push"
   ]
  },
  {
   "cell_type": "code",
   "execution_count": null,
   "metadata": {
    "collapsed": true
   },
   "outputs": [],
   "source": []
  }
 ],
 "metadata": {
  "kernelspec": {
   "display_name": "Python 3",
   "language": "python",
   "name": "python3"
  },
  "language_info": {
   "codemirror_mode": {
    "name": "ipython",
    "version": 3
   },
   "file_extension": ".py",
   "mimetype": "text/x-python",
   "name": "python",
   "nbconvert_exporter": "python",
   "pygments_lexer": "ipython3",
   "version": "3.4.3"
  }
 },
 "nbformat": 4,
 "nbformat_minor": 0
}
