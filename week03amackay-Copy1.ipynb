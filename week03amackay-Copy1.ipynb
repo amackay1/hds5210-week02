{
 "cells": [
  {
   "cell_type": "code",
   "execution_count": 16,
   "metadata": {
    "collapsed": false
   },
   "outputs": [
    {
     "data": {
      "text/plain": [
       "89"
      ]
     },
     "execution_count": 16,
     "metadata": {},
     "output_type": "execute_result"
    }
   ],
   "source": [
    "# 1 Creating Functions\n",
    "# Write a function that will compute the sum of three numbers. Then use that function to calculate the sum of the eight numbers:\n",
    "# 4, 9, 12, 8, 16, 19, 11, 10\n",
    "nums = 4, 9, 12, 8, 16, 19, 11, 10\n",
    "sum_total_nums = sum (nums)\n",
    "sum_total_nums"
   ]
  },
  {
   "cell_type": "code",
   "execution_count": 1,
   "metadata": {
    "collapsed": false
   },
   "outputs": [
    {
     "data": {
      "text/plain": [
       "25"
      ]
     },
     "execution_count": 1,
     "metadata": {},
     "output_type": "execute_result"
    }
   ],
   "source": [
    "def sum_of_3 (x,y,z):\n",
    "   return x+ y+ z\n",
    "sum_of_3 (4,9,12)\n"
   ]
  },
  {
   "cell_type": "code",
   "execution_count": 70,
   "metadata": {
    "collapsed": false
   },
   "outputs": [
    {
     "data": {
      "text/plain": [
       "89"
      ]
     },
     "execution_count": 70,
     "metadata": {},
     "output_type": "execute_result"
    }
   ],
   "source": [
    "sum_of_3 = 4 + 9 + 12\n",
    "sum8 = sum_of_3 + 8 +16 + 19 + 11 +10\n",
    "sum8"
   ]
  },
  {
   "cell_type": "code",
   "execution_count": 8,
   "metadata": {
    "collapsed": false
   },
   "outputs": [
    {
     "name": "stdout",
     "output_type": "stream",
     "text": [
      "The current value of temp is 103\n"
     ]
    }
   ],
   "source": [
    "# 2 Understanding Functions\n",
    "# Try to reason through this set of instruction and determine what the output will be. Check your understanding by running the \n",
    "# code in Jupyter. Then explain why the output is what it is\n",
    "temp = 103\n",
    "\n",
    "def calculate_target (temp):\n",
    "    temp -= 4\n",
    "    return temp\n",
    "\n",
    "calculate_target (temp)\n",
    "\n",
    "print(\"The current value of temp is \" + str(temp))"
   ]
  },
  {
   "cell_type": "code",
   "execution_count": 67,
   "metadata": {
    "collapsed": false
   },
   "outputs": [
    {
     "data": {
      "text/plain": [
       "\" Since the result of the caculate_target(temp) function call is not assigned to anything, it has no bearing on the the value \\nof temp.  That's why the value of temp is 103.\""
      ]
     },
     "execution_count": 67,
     "metadata": {},
     "output_type": "execute_result"
    }
   ],
   "source": [
    "\"\"\" Since the result of the caculate_target(temp) function call is not assigned to anything, it has no bearing on the the value \n",
    "of temp.  That's why the value of temp is 103.\"\"\"  "
   ]
  },
  {
   "cell_type": "code",
   "execution_count": 50,
   "metadata": {
    "collapsed": false
   },
   "outputs": [
    {
     "data": {
      "text/plain": [
       "0.75"
      ]
     },
     "execution_count": 50,
     "metadata": {},
     "output_type": "execute_result"
    }
   ],
   "source": [
    "# 3 Parsing Dosage Amounts and Units\n",
    "#Create a function that will take as input an infusion dosage value and unit in the format # volume/time such as 45 mg/hr or \n",
    "# 0.2 L/hr, and return just the numeric part of the dosage. It should return the numeric part as a floating point decimal \n",
    "# number so that calculations can easily be done with the number.  Demonstrate that your function works correctly using each \n",
    "# of these tests:  1.0 L/hr  10 mg/hr  0.75 g/day\n",
    "med_dose = 1\n",
    "med_time = 0.75\n",
    "rate = med_time / med_dose\n",
    "rate "
   ]
  },
  {
   "cell_type": "code",
   "execution_count": 49,
   "metadata": {
    "collapsed": false
   },
   "outputs": [
    {
     "data": {
      "text/plain": [
       "0.075"
      ]
     },
     "execution_count": 49,
     "metadata": {},
     "output_type": "execute_result"
    }
   ],
   "source": [
    "med_dose1 = 10\n",
    "rate = med_time / med_dose1\n",
    "rate"
   ]
  },
  {
   "cell_type": "code",
   "execution_count": 51,
   "metadata": {
    "collapsed": false
   },
   "outputs": [
    {
     "data": {
      "text/plain": [
       "20.0"
      ]
     },
     "execution_count": 51,
     "metadata": {},
     "output_type": "execute_result"
    }
   ],
   "source": [
    "# 4 Parsing and Rewriting a String\n",
    "# Create another function or collection of functions that will take a string in the format drug # volumne/time such as \n",
    "# Asprin 20 mg/hr, and return a string in the format In one hr, the patient will have received 20 mg of Asprin. \n",
    "# Doubling the dosage to 40 mg would be dangerous!. Be sure that you reuse the other functions you've created in this assignment \n",
    "# if possible.  Demonstrate that your function works correctly using these tests:  Asprin 20 mg/hr    Amoxicillin 300 mg/day\n",
    "Aspirin 20 mg/hr\n",
    "med_dose = 20\n",
    "med_time = 1\n",
    "rate = med_dose / med_time\n",
    "rate \n"
   ]
  },
  {
   "cell_type": "code",
   "execution_count": 2,
   "metadata": {
    "collapsed": false
   },
   "outputs": [],
   "source": [
    "def pritn_med(a):\n",
    "    drug=a[0:a.find(' ')]\n",
    "    pos_of_number= a.find(' ')\n",
    "    nunber= int(a[pos_of_number:a.find('/')-2])\n",
    "    value_and_dose= a[pos_of_number:]\n",
    "    pos_value_and_time= value_and_dose.find(' ')+1\n",
    "    unit= value_and_dose[value_and_dose.find(' '): value_and_dose.find('/')]\n",
    "    time= a[a.find('/')+1:]\n",
    "    dub= (2 * number)\n",
    "    \n",
    "    return 'In one' + str(time) + ',the patient will have recieved' + str(number) +\\\n",
    "    str(unit) + ' ' + 'of' + str(drug) + '.  Doubling the dosage to' + str(dub) + str(unit)\\\n",
    "    + 'would be dangerous!'"
   ]
  },
  {
   "cell_type": "code",
   "execution_count": 4,
   "metadata": {
    "collapsed": false
   },
   "outputs": [
    {
     "name": "stdout",
     "output_type": "stream",
     "text": [
      "[master b07d55d] Adding homework\n",
      " 1 file changed, 5 insertions(+), 9 deletions(-)\n"
     ]
    },
    {
     "name": "stderr",
     "output_type": "stream",
     "text": [
      "warning: push.default is unset; its implicit value has changed in\n",
      "Git 2.0 from 'matching' to 'simple'. To squelch this message\n",
      "and maintain the traditional behavior, use:\n",
      "\n",
      "  git config --global push.default matching\n",
      "\n",
      "To squelch this message and adopt the new behavior now, use:\n",
      "\n",
      "  git config --global push.default simple\n",
      "\n",
      "When push.default is set to 'matching', git will push local branches\n",
      "to the remote branches that already exist with the same name.\n",
      "\n",
      "Since Git 2.0, Git defaults to the more conservative 'simple'\n",
      "behavior, which only pushes the current branch to the corresponding\n",
      "remote branch that 'git pull' uses to update the current branch.\n",
      "\n",
      "See 'git help config' and search for 'push.default' for further information.\n",
      "(the 'simple' mode was introduced in Git 1.7.11. Use the similar mode\n",
      "'current' instead of 'simple' if you sometimes use older versions of Git)\n",
      "\n",
      "To git@github.com:amackay1/hds5210-week02.git\n",
      "   d49c7b5..b07d55d  master -> master\n"
     ]
    }
   ],
   "source": [
    "%%bash\n",
    "cd ~/notebooks/hds5210-week02/\n",
    "git commit -a -m \"Adding homework\"\n",
    "git push"
   ]
  },
  {
   "cell_type": "code",
   "execution_count": null,
   "metadata": {
    "collapsed": true
   },
   "outputs": [],
   "source": []
  }
 ],
 "metadata": {
  "kernelspec": {
   "display_name": "Python 3",
   "language": "python",
   "name": "python3"
  },
  "language_info": {
   "codemirror_mode": {
    "name": "ipython",
    "version": 3
   },
   "file_extension": ".py",
   "mimetype": "text/x-python",
   "name": "python",
   "nbconvert_exporter": "python",
   "pygments_lexer": "ipython3",
   "version": "3.4.3"
  }
 },
 "nbformat": 4,
 "nbformat_minor": 0
}
