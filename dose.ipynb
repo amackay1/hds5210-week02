{
 "cells": [
  {
   "cell_type": "code",
   "execution_count": 1,
   "metadata": {
    "collapsed": false
   },
   "outputs": [],
   "source": [
    "class Dose:\n",
    "    def __init__(self, text):\n",
    "        \n",
    "        self.drug = str(text[0:text.find(' ')])\n",
    "        self.amount= int(text[text.find(' '): text.find('/')-2])\n",
    "        self.mass_unit= str(text[text.find('/')-2:text.find('/')])\n",
    "        self.time_unit=str(text[text.find('/')+1:])\n",
    "        \n",
    "    def is_overdose(self, reference):\n",
    "        if reference.drug != self.drug or reference.mass_unit != self.mass_unit or reference.time_unit != self.time_unit:\n",
    "            return \"None\"        \n",
    "        elif self.amount <= reference.amount:\n",
    "            return \"False\"\n",
    "        else:\n",
    "            return \"True\"\n",
    "                \n",
    "   "
   ]
  },
  {
   "cell_type": "code",
   "execution_count": 2,
   "metadata": {
    "collapsed": false
   },
   "outputs": [
    {
     "name": "stdout",
     "output_type": "stream",
     "text": [
      "Amox\n",
      "100\n",
      "mg\n",
      "hr\n"
     ]
    }
   ],
   "source": [
    "d = Dose(\"Amox 100 mg/hr\")\n",
    "print(d.drug)\n",
    "print(d.amount)\n",
    "print(d.mass_unit)\n",
    "print(d.time_unit)"
   ]
  },
  {
   "cell_type": "code",
   "execution_count": 3,
   "metadata": {
    "collapsed": false
   },
   "outputs": [
    {
     "name": "stdout",
     "output_type": "stream",
     "text": [
      "True\n",
      "False\n",
      "None\n"
     ]
    }
   ],
   "source": [
    "ref = Dose(\"Amox 50 mg/hr\")\n",
    "print(d.is_overdose(ref))\n",
    "print(d.is_overdose(d))\n",
    "print(d.is_overdose(Dose(\"Pen 100 mg/day\")))"
   ]
  },
  {
   "cell_type": "code",
   "execution_count": null,
   "metadata": {
    "collapsed": true
   },
   "outputs": [],
   "source": []
  }
 ],
 "metadata": {
  "kernelspec": {
   "display_name": "Python 3",
   "language": "python",
   "name": "python3"
  },
  "language_info": {
   "codemirror_mode": {
    "name": "ipython",
    "version": 3
   },
   "file_extension": ".py",
   "mimetype": "text/x-python",
   "name": "python",
   "nbconvert_exporter": "python",
   "pygments_lexer": "ipython3",
   "version": "3.4.3"
  }
 },
 "nbformat": 4,
 "nbformat_minor": 0
}
