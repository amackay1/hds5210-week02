{
 "cells": [
  {
   "cell_type": "markdown",
   "metadata": {},
   "source": [
    "You'll notice that CMS data file includes several columns, one for each different timeframe. It's not atypical to recieve data files where time is measure horizontally across the row, but you may need to pivot that so that have one row per time entry. As a simplified example, below is a sample of input data that has a separate column for each quarter in 2015:\n",
    "\n",
    "\n",
    "Last,First,2015Q1,2015Q2,2015Q3,2015Q4 \n",
    "\n",
    "Boal,Paul,10,9,10,8 Westhus,\n",
    "\n",
    "Eric,9,10,10,9\n",
    "\n",
    "\n",
    "When we say we want to pivot that data, what mean is that we want one row for each data value. To be specific, we say that we're going to pivot columns 2 throuh the end (assuming the first column is 0). The output of doing this looks like this:\n",
    "\n",
    "\n",
    "Last,First,Time,Value \n",
    "\n",
    "Boal,Paul,2015Q1,10 \n",
    "\n",
    "Boal,Paul,2015Q2,9 \n",
    "\n",
    "Boal,Paul,2015Q3,10\n",
    "\n",
    "Boal,Paul,2015Q4,8 \n",
    "\n",
    "Westhus,Eric,2015Q1,9\n",
    "\n",
    "Westhus,Eric,2015Q2,10 \n",
    "\n",
    "Westhus,Eric,2015Q3,10 \n",
    "\n",
    "Westhus,Eric,2015Q4,9\n",
    "\n",
    "\n",
    "So, create a new module called pivot with one function in it called pivot_columns(). This function should take a list of lists as well as a list of column numbers that should be pivoted as shown in the example below. You can assume the file is a CSV. The return value should be a list of lists."
   ]
  },
  {
   "cell_type": "code",
   "execution_count": 1,
   "metadata": {
    "collapsed": false
   },
   "outputs": [],
   "source": [
    "def pivot_columns(l, pivot_columns):\n",
    "    \"\"\" \n",
    "    (list, list) -> list\n",
    "    This function takes in a rectangular list of lists (a 2-d array) and a list of column numbers.\n",
    "    The function assumes the first row in the list is a header row.\n",
    "    The function will simply copy down all the data infront of the first pivot column.\n",
    "    The function will create multiple rows for each of the input rows in the list, \n",
    "      one for each of the pivot columns.  In each of those rows will be the all of the columns\n",
    "      before the first pivot column, followed by the header name for that pivot column,\n",
    "      followed by the value in that pivot column.\n",
    "    The output should also have a header row that contains the same header as the input\n",
    "      for everything before the pivot columns, followed by 'Column' and 'Value'\n",
    "    \n",
    "    Input:\n",
    "    [['Last','First','2015Q1','2015Q2','2015Q3','2015Q4'],\n",
    "     ['Boal','Paul',10,9,10,8],\n",
    "     ['Westhus','Eric',9,10,10,9]]\n",
    "     \n",
    "    Function Call:\n",
    "    output = pivot_columns(input, list(range(2,6)))\n",
    "     \n",
    "    Output:\n",
    "    [['Last','First','Column','Value'],\n",
    "     ['Boal','Paul','2015Q1',10],\n",
    "     ['Boal','Paul','2015Q2',9],\n",
    "     ['Boal','Paul','2015Q3',10],\n",
    "     ['Boal','Paul','2015Q4',8],\n",
    "     ['Westhus','Eric','2015Q1',9],\n",
    "     ['Westhus','Eric','2015Q2',10],\n",
    "     ['Westhus','Eric','2015Q3',10],\n",
    "     ['Westhus','Eric','2015Q4',9]]\n",
    "     \n",
    "    \"\"\"\n",
    "    \n",
    "    output = []\n",
    "    \n",
    "    #pivot_columns.insert(len(l), max(range(2,6)))\n",
    "    output = [l[0][0:min(range(2,6))]+ ['Column', 'Value']]\n",
    "    for i in list(range(1, len(l))):\n",
    "        for p in pivot_columns:\n",
    "            output.append(l[i][0:min(range(2,6))]+ [l[0][p], l[i][p]])\n",
    "    return output"
   ]
  },
  {
   "cell_type": "code",
   "execution_count": 2,
   "metadata": {
    "collapsed": false
   },
   "outputs": [
    {
     "name": "stdout",
     "output_type": "stream",
     "text": [
      "[['Last', 'First', 'Column', 'Value'], ['Boal', 'Paul', '2015Q1', 10], ['Boal', 'Paul', '2015Q2', 9], ['Boal', 'Paul', '2015Q3', 10], ['Boal', 'Paul', '2015Q4', 8], ['Westhus', 'Eric', '2015Q1', 9], ['Westhus', 'Eric', '2015Q2', 10], ['Westhus', 'Eric', '2015Q3', 10], ['Westhus', 'Eric', '2015Q4', 9]]\n",
      "[1, 2, 3]\n"
     ]
    }
   ],
   "source": [
    "test = [['Last','First','2015Q1','2015Q2','2015Q3','2015Q4'],\n",
    "        ['Boal','Paul',10,9,10,8],\n",
    "        ['Westhus','Eric',9,10,10,9]]\n",
    "\n",
    "out = pivot_columns(test,list(range(2,6)))\n",
    "print(out)\n",
    "print(list(range(1, len(test)+1)))"
   ]
  },
  {
   "cell_type": "code",
   "execution_count": null,
   "metadata": {
    "collapsed": true
   },
   "outputs": [],
   "source": []
  }
 ],
 "metadata": {
  "kernelspec": {
   "display_name": "Python 3",
   "language": "python",
   "name": "python3"
  },
  "language_info": {
   "codemirror_mode": {
    "name": "ipython",
    "version": 3
   },
   "file_extension": ".py",
   "mimetype": "text/x-python",
   "name": "python",
   "nbconvert_exporter": "python",
   "pygments_lexer": "ipython3",
   "version": "3.4.3"
  }
 },
 "nbformat": 4,
 "nbformat_minor": 0
}
