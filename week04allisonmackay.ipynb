{
 "cells": [
  {
   "cell_type": "code",
   "execution_count": 192,
   "metadata": {
    "collapsed": true
   },
   "outputs": [],
   "source": [
    "# 1 NAND\n",
    "# Inside of computer chips, it's often easier to do a logical operation called NAND (not and). Write a function that takes \n",
    "#two boolean parameters and returns the NAND of those values. Here is the k-map for NAND:\n",
    "# NAND: \n",
    "#        TRUE   FALSE\n",
    "#TRUE    False  True\n",
    "#FALSE   True   True\n",
    "\n",
    "#Include the four tests from the k-map in your docstring, and show the output of testing your function for correct operation \n",
    "#using testmod() as demonstrated during class.\n"
   ]
  },
  {
   "cell_type": "code",
   "execution_count": 193,
   "metadata": {
    "collapsed": false
   },
   "outputs": [],
   "source": [
    "def NAND(a,b):\n",
    "    \"\"\"(bool,bool) -> bool\n",
    "      \n",
    "    >>> NAND (True,True)\n",
    "    False\n",
    "    \n",
    "    >>> NAND (True, False)\n",
    "    True\n",
    "    \n",
    "    >>> NAND (False, True)\n",
    "    True\n",
    "    \n",
    "    >>> NAND (False, False)\n",
    "    True\n",
    "    \"\"\"\n",
    "    return not (a and b)\n",
    "\n"
   ]
  },
  {
   "cell_type": "code",
   "execution_count": 194,
   "metadata": {
    "collapsed": false
   },
   "outputs": [
    {
     "data": {
      "text/plain": [
       "True"
      ]
     },
     "execution_count": 194,
     "metadata": {},
     "output_type": "execute_result"
    }
   ],
   "source": [
    "NAND(False, True)"
   ]
  },
  {
   "cell_type": "code",
   "execution_count": 195,
   "metadata": {
    "collapsed": false,
    "scrolled": true
   },
   "outputs": [
    {
     "name": "stdout",
     "output_type": "stream",
     "text": [
      "length_of_stay:\t\tacute_flag\t\tcharlson\t\ted_visits\n",
      "\tDAYS\tSCORE\n",
      "\t>1\t0\t\tTrue\t3\t\t0\t0\t\t0\t0\n",
      "\t1\t1\t\tFalse\t0\t\t1\t1\t\t1\t1\n",
      "\t2\t2\t\t\t\t\t2\t2\t\t2\t2\n",
      "\t3\t3\t\t\t\t\t3\t3\t\t3\t3\n",
      "\t4-6\t4\t\t\t\t\t>=4\t5\t\t>=4\t4\n",
      "\t7-13\t5\t\t\t\t\t\t\t\n",
      "\t>=14\t7\t\t\t\t\t\n"
     ]
    }
   ],
   "source": [
    "print (\"length_of_stay:\\t\\tacute_flag\\t\\tcharlson\\t\\ted_visits\")\n",
    "print(\"\\tDAYS\\tSCORE\")\n",
    "print(\"\\t>1\\t0\\t\\tTrue\\t3\\t\\t0\\t0\\t\\t0\\t0\")\n",
    "print(\"\\t1\\t1\\t\\tFalse\\t0\\t\\t1\\t1\\t\\t1\\t1\")\n",
    "print(\"\\t2\\t2\\t\\t\\t\\t\\t2\\t2\\t\\t2\\t2\")\n",
    "print(\"\\t3\\t3\\t\\t\\t\\t\\t3\\t3\\t\\t3\\t3\")\n",
    "print(\"\\t4-6\\t4\\t\\t\\t\\t\\t>=4\\t5\\t\\t>=4\\t4\")\n",
    "print(\"\\t7-13\\t5\\t\\t\\t\\t\\t\\t\\t\")\n",
    "print(\"\\t>=14\\t7\\t\\t\\t\\t\\t\")"
   ]
  },
  {
   "cell_type": "code",
   "execution_count": 209,
   "metadata": {
    "collapsed": false
   },
   "outputs": [],
   "source": [
    "#2 Lace Score\n",
    "# Use this documentation to create a function that can compute LACE scores based on the 4 input parameters. \n",
    "#Below is the function signature and documentation that you start with. Include 3 test cases and demonstrate them using \n",
    "#testmod().\n",
    "def LACE( length_of_stay, acute_flag, charlson, ed_visits):\n",
    "    \"\"\"(int, bool, int, int) -> int \n",
    "        False == 0\n",
    "        True == 3\n",
    "    This score determines whether or not the patient will need a case coordinator.\n",
    "    Return the total points based on the table from above to determine LACE score. \n",
    "    LACE = length_of_stay  +  acute_flag  +  charlson  +  ed_visits\n",
    "    \n",
    "    >>> LACE(4, False, 1, 0)\n",
    "    5\n",
    "    \n",
    "    >>> LACE(4, True, 4, 7)\n",
    "    16\n",
    "    \n",
    "    >>> LACE(1, False, 9, 5)\n",
    "    10\n",
    "    \n",
    "    \n",
    "    \"\"\"\n",
    "    def translate_length_of_stay(days):\n",
    "        if days < 1:\n",
    "            return 0\n",
    "        if days == 1:\n",
    "            return 1\n",
    "        if days == 2:\n",
    "            return 2\n",
    "        if days == 3:\n",
    "            return 3\n",
    "        if days > 3 and  days < 7:\n",
    "            return 4\n",
    "        if days > 8 and days < 14:\n",
    "            return 5\n",
    "        else:\n",
    "            return 7\n",
    "    def translate_acute_flag(bool):\n",
    "        if bool == True:\n",
    "            return 3\n",
    "        else: \n",
    "            return 0\n",
    "    def translate_charlson(x):\n",
    "        if x < 1:\n",
    "            return 0\n",
    "        if x == 1:\n",
    "            return 1\n",
    "        if x == 2:\n",
    "            return 2\n",
    "        if x == 3:\n",
    "            return 3\n",
    "        else:\n",
    "            return 5\n",
    "    def translate_ed_visits(stay):\n",
    "        if stay < 1:\n",
    "            return 0\n",
    "        if stay == 1:\n",
    "            return 1\n",
    "        if stay == 2:\n",
    "            return 2\n",
    "        if stay == 3:\n",
    "            return 3\n",
    "        else:\n",
    "            return 4\n",
    "            \n",
    "    return translate_length_of_stay(length_of_stay) + translate_acute_flag(acute_flag) + translate_charlson(charlson) + translate_ed_visits(ed_visits)\n",
    "        "
   ]
  },
  {
   "cell_type": "code",
   "execution_count": 210,
   "metadata": {
    "collapsed": false
   },
   "outputs": [
    {
     "data": {
      "text/plain": [
       "5"
      ]
     },
     "execution_count": 210,
     "metadata": {},
     "output_type": "execute_result"
    }
   ],
   "source": [
    "LACE (4, False, 1, 0)"
   ]
  },
  {
   "cell_type": "markdown",
   "metadata": {
    "collapsed": false
   },
   "source": [
    "# 3 Care Managment Criteria\n",
    "# Care managers use LACE as part of the criteria for assigning a care coodinator to a patient who has been recently \n",
    "#discharged. If the score is above 10, then a care coordinator will be assigned. The other criteria they use is if the\n",
    "#patient has been discharged with a diagnosis of CHF or COPD. If the diagnosis field has CHF or COPD in it, then the\n",
    "#patient will have a care coordinator assigned. For this exercise, write another function that takes the same inputs \n",
    "#as LACE() plus another diagnosis parameter, and return True or False depending on if the paient needs a care coordinator.\n",
    "\n"
   ]
  },
  {
   "cell_type": "code",
   "execution_count": 1,
   "metadata": {
    "collapsed": false
   },
   "outputs": [],
   "source": [
    "def assign_care_coordinator(diagnosis_cd, ed_visit_count, length_of_stay, acute_flag, charlson):\n",
    "    \"\"\" (str, int, int, bool, int) -> bool\n",
    "    Care managers use LACE as part of the criteria for assigning a care coodinator to a patient who has been recently \n",
    "    discharged. If the score is above 10, or the patient was discharged with a diagnosis of CHF or COPD, then a care \n",
    "    coordinator will be assigned.  \n",
    "    \n",
    "    >>> assign_care_coordinator('None', 0, 4, False, 1)\n",
    "    False\n",
    "\n",
    "    >>> assign_care_coordinator('CHF', 0, 4, False, 1)\n",
    "    True\n",
    "\n",
    "    >>> assign_care_coordinator('COPD', 0, 4, False, 1)\n",
    "    True\n",
    "\n",
    "    >>> assign_care_coordinator('None', 7, 4, True, 4)\n",
    "    True\n",
    "    \n",
    "    >>> assign_care_coordinator('CHF', 7, 4, True, 4)\n",
    "    True\n",
    "    \"\"\"\n",
    "    def LACE ( ed_visit_count, length_of_stay, acute_flag, charlson):\n",
    "        \n",
    "        def translate_length_of_stay(days):\n",
    "            if days < 1:\n",
    "                return 0\n",
    "            if days == 1:\n",
    "                return 1\n",
    "            if days == 2:\n",
    "                return 2\n",
    "            if days == 3:\n",
    "                return 3\n",
    "            if days > 3 and  days < 7:\n",
    "                return 4\n",
    "            if days > 8 and days < 14:\n",
    "                return 5\n",
    "            else:\n",
    "                return 7\n",
    "        def translate_acute_flag(bool):\n",
    "            if bool == True:\n",
    "                return 3\n",
    "            else: \n",
    "                return 0\n",
    "        def translate_charlson(x):\n",
    "            if x < 1:\n",
    "                return 0\n",
    "            if x == 1:\n",
    "                return 1\n",
    "            if x == 2:\n",
    "                return 2\n",
    "            if x == 3:\n",
    "                return 3\n",
    "            else:\n",
    "                return 5\n",
    "        def translate_ed_visit_count(stay):\n",
    "            if stay < 1:\n",
    "                return 0\n",
    "            if stay == 1:\n",
    "                return 1\n",
    "            if stay == 2:\n",
    "                return 2\n",
    "            if stay == 3:\n",
    "                return 3\n",
    "            else:\n",
    "                return 4\n",
    "            \n",
    "    \n",
    "          \n",
    "    if diagnosis_cd == 'CHF':\n",
    "        return True\n",
    "    elif diagnosis_cd == 'COPD':\n",
    "        return True\n",
    "    elif LACE(ed_visit_count, length_of_stay, acute_flag, charlson) > 10:\n",
    "        return True \n",
    "    else:\n",
    "        return False\n",
    "   "
   ]
  },
  {
   "cell_type": "code",
   "execution_count": 8,
   "metadata": {
    "collapsed": true
   },
   "outputs": [],
   "source": [
    "def assign_care_coordinator(diagnosis_cd, ed_visit_count, length_of_stay, acute_flag, charlson):\n",
    "    \"\"\" (str, int, int, bool, int) -> bool\n",
    "    Care managers use LACE as part of the criteria for assigning a care coodinator to a patient who has been recently \n",
    "    discharged. If the score is above 10, or the patient was discharged with a diagnosis of CHF or COPD, then a care \n",
    "    coordinator will be assigned.  \n",
    "    \n",
    "    >>> assign_care_coordinator('None', 0, 4, False, 1)\n",
    "    False\n",
    "\n",
    "    >>> assign_care_coordinator('CHF', 0, 4, False, 1)\n",
    "    True\n",
    "\n",
    "    >>> assign_care_coordinator('COPD', 0, 4, False, 1)\n",
    "    True\n",
    "\n",
    "    >>> assign_care_coordinator('None', 7, 4, True, 4)\n",
    "    True\n",
    "    \n",
    "    >>> assign_care_coordinator('CHF', 7, 4, True, 4)\n",
    "    True\n",
    "    \"\"\"\n",
    "    \n",
    "    # describe LACE algo here\n",
    "    LACE_score_length_of_stay = 0\n",
    "    if length_of_stay < 1:\n",
    "        LACE_score_length_of_stay = 1\n",
    "    elif days >= 1 and days < 4:\n",
    "        LACE_score_length_of_stay = days\n",
    "    elif days > 3 and days < 7:\n",
    "        LACE_score_length_of_stay = 4\n",
    "    elif days > 8 and days < 14:\n",
    "        LACE_score_length_of_stay = 5\n",
    "    else:\n",
    "        LACE_score_length_of_stay = 7\n",
    "        \n",
    "    print(LACE_score_length_of_stay)\n",
    "    \n",
    "    def LACE ( ed_visit_count, length_of_stay, acute_flag, charlson):\n",
    "        \n",
    "        def translate_length_of_stay(days):\n",
    "            if days < 1:\n",
    "                return 0\n",
    "            if days == 1:\n",
    "                return 1\n",
    "            if days == 2:\n",
    "                return 2\n",
    "            if days == 3:\n",
    "                return 3\n",
    "            if days > 3 and  days < 7:\n",
    "                return 4\n",
    "            if days > 8 and days < 14:\n",
    "                return 5\n",
    "            else:\n",
    "                return 7\n",
    "        def translate_acute_flag(bool):\n",
    "            if bool == True:\n",
    "                return 3\n",
    "            else: \n",
    "                return 0\n",
    "        def translate_charlson(x):\n",
    "            if x < 1:\n",
    "                return 0\n",
    "            if x == 1:\n",
    "                return 1\n",
    "            if x == 2:\n",
    "                return 2\n",
    "            if x == 3:\n",
    "                return 3\n",
    "            else:\n",
    "                return 5\n",
    "        def translate_ed_visit_count(stay):\n",
    "            if stay < 1:\n",
    "                return 0\n",
    "            if stay == 1:\n",
    "                return 1\n",
    "            if stay == 2:\n",
    "                return 2\n",
    "            if stay == 3:\n",
    "                return 3\n",
    "            else:\n",
    "                return 4\n",
    "    \n",
    "    if diagnosis_cd == 'CHF':\n",
    "        return True\n",
    "    elif diagnosis_cd == 'COPD':\n",
    "        return True\n",
    "    elif LACE(ed_visit_count, length_of_stay, acute_flag, charlson) > 10:\n",
    "        return True \n",
    "    else:\n",
    "        return False\n",
    "\n"
   ]
  },
  {
   "cell_type": "code",
   "execution_count": 9,
   "metadata": {
    "collapsed": false
   },
   "outputs": [
    {
     "ename": "NameError",
     "evalue": "name 'days' is not defined",
     "output_type": "error",
     "traceback": [
      "\u001b[0;31m---------------------------------------------------------------------------\u001b[0m",
      "\u001b[0;31mNameError\u001b[0m                                 Traceback (most recent call last)",
      "\u001b[0;32m<ipython-input-9-ab8e70ec7ed4>\u001b[0m in \u001b[0;36m<module>\u001b[0;34m()\u001b[0m\n\u001b[0;32m----> 1\u001b[0;31m \u001b[0massign_care_coordinator\u001b[0m \u001b[0;34m(\u001b[0m\u001b[0;34m'CHF'\u001b[0m\u001b[0;34m,\u001b[0m \u001b[0;36m0\u001b[0m\u001b[0;34m,\u001b[0m \u001b[0;36m4\u001b[0m\u001b[0;34m,\u001b[0m \u001b[0;32mFalse\u001b[0m\u001b[0;34m,\u001b[0m \u001b[0;36m1\u001b[0m\u001b[0;34m)\u001b[0m\u001b[0;34m\u001b[0m\u001b[0m\n\u001b[0m",
      "\u001b[0;32m<ipython-input-8-8807cb741772>\u001b[0m in \u001b[0;36massign_care_coordinator\u001b[0;34m(diagnosis_cd, ed_visit_count, length_of_stay, acute_flag, charlson)\u001b[0m\n\u001b[1;32m     25\u001b[0m     \u001b[0;32mif\u001b[0m \u001b[0mlength_of_stay\u001b[0m \u001b[0;34m<\u001b[0m \u001b[0;36m1\u001b[0m\u001b[0;34m:\u001b[0m\u001b[0;34m\u001b[0m\u001b[0m\n\u001b[1;32m     26\u001b[0m         \u001b[0mLACE_score_length_of_stay\u001b[0m \u001b[0;34m=\u001b[0m \u001b[0;36m1\u001b[0m\u001b[0;34m\u001b[0m\u001b[0m\n\u001b[0;32m---> 27\u001b[0;31m     \u001b[0;32melif\u001b[0m \u001b[0mdays\u001b[0m \u001b[0;34m>=\u001b[0m \u001b[0;36m1\u001b[0m \u001b[0;32mand\u001b[0m \u001b[0mdays\u001b[0m \u001b[0;34m<\u001b[0m \u001b[0;36m4\u001b[0m\u001b[0;34m:\u001b[0m\u001b[0;34m\u001b[0m\u001b[0m\n\u001b[0m\u001b[1;32m     28\u001b[0m         \u001b[0mLACE_score_length_of_stay\u001b[0m \u001b[0;34m=\u001b[0m \u001b[0mdays\u001b[0m\u001b[0;34m\u001b[0m\u001b[0m\n\u001b[1;32m     29\u001b[0m     \u001b[0;32melif\u001b[0m \u001b[0mdays\u001b[0m \u001b[0;34m>\u001b[0m \u001b[0;36m3\u001b[0m \u001b[0;32mand\u001b[0m \u001b[0mdays\u001b[0m \u001b[0;34m<\u001b[0m \u001b[0;36m7\u001b[0m\u001b[0;34m:\u001b[0m\u001b[0;34m\u001b[0m\u001b[0m\n",
      "\u001b[0;31mNameError\u001b[0m: name 'days' is not defined"
     ]
    }
   ],
   "source": [
    "assign_care_coordinator ('CHF', 0, 4, False, 1)"
   ]
  },
  {
   "cell_type": "code",
   "execution_count": 29,
   "metadata": {
    "collapsed": false
   },
   "outputs": [
    {
     "name": "stdout",
     "output_type": "stream",
     "text": [
      "Trying:\n",
      "    assign_care_coordinator('None', 0, 4, False, 1)\n",
      "Expecting:\n",
      "    False\n",
      "**********************************************************************\n",
      "File \"__main__\", line 7, in __main__.assign_care_coordinator\n",
      "Failed example:\n",
      "    assign_care_coordinator('None', 0, 4, False, 1)\n",
      "Exception raised:\n",
      "    Traceback (most recent call last):\n",
      "      File \"/usr/lib64/python3.4/doctest.py\", line 1318, in __run\n",
      "        compileflags, 1), test.globs)\n",
      "      File \"<doctest __main__.assign_care_coordinator[0]>\", line 1, in <module>\n",
      "        assign_care_coordinator('None', 0, 4, False, 1)\n",
      "      File \"<ipython-input-27-4916c435f06a>\", line 73, in assign_care_coordinator\n",
      "        elif LACE(ed_visit_count, length_of_stay, acute_flag, charlson) > 10:\n",
      "    TypeError: unorderable types: NoneType() > int()\n",
      "Trying:\n",
      "    assign_care_coordinator('CHF', 0, 4, False, 1)\n",
      "Expecting:\n",
      "    True\n",
      "ok\n",
      "Trying:\n",
      "    assign_care_coordinator('COPD', 0, 4, False, 1)\n",
      "Expecting:\n",
      "    True\n",
      "ok\n",
      "Trying:\n",
      "    assign_care_coordinator('None', 7, 4, True, 4)\n",
      "Expecting:\n",
      "    True\n",
      "**********************************************************************\n",
      "File \"__main__\", line 16, in __main__.assign_care_coordinator\n",
      "Failed example:\n",
      "    assign_care_coordinator('None', 7, 4, True, 4)\n",
      "Exception raised:\n",
      "    Traceback (most recent call last):\n",
      "      File \"/usr/lib64/python3.4/doctest.py\", line 1318, in __run\n",
      "        compileflags, 1), test.globs)\n",
      "      File \"<doctest __main__.assign_care_coordinator[3]>\", line 1, in <module>\n",
      "        assign_care_coordinator('None', 7, 4, True, 4)\n",
      "      File \"<ipython-input-27-4916c435f06a>\", line 73, in assign_care_coordinator\n",
      "        elif LACE(ed_visit_count, length_of_stay, acute_flag, charlson) > 10:\n",
      "    TypeError: unorderable types: NoneType() > int()\n",
      "Trying:\n",
      "    assign_care_coordinator('CHF', 7, 4, True, 4)\n",
      "Expecting:\n",
      "    True\n",
      "ok\n",
      "1 items had no tests:\n",
      "    __main__\n",
      "**********************************************************************\n",
      "1 items had failures:\n",
      "   2 of   5 in __main__.assign_care_coordinator\n",
      "5 tests in 2 items.\n",
      "3 passed and 2 failed.\n",
      "***Test Failed*** 2 failures.\n"
     ]
    },
    {
     "data": {
      "text/plain": [
       "TestResults(failed=2, attempted=5)"
      ]
     },
     "execution_count": 29,
     "metadata": {},
     "output_type": "execute_result"
    }
   ],
   "source": [
    "import doctest\n",
    "doctest.testmod (verbose=True)"
   ]
  },
  {
   "cell_type": "code",
   "execution_count": 30,
   "metadata": {
    "collapsed": false
   },
   "outputs": [
    {
     "name": "stdout",
     "output_type": "stream",
     "text": [
      "On branch master\n",
      "Your branch is up-to-date with 'origin/master'.\n",
      "Untracked files:\n",
      "\t.ipynb_checkpoints/\n",
      "\tDose.ipynb\n",
      "\tWeek05.allisonmackay.ipynb\n",
      "\tweek03amackay-Copy1.ipynb\n",
      "\tweek03amackay.ipynb\n",
      "\tweek04allisonmackay.ipynb\n",
      "\n",
      "nothing added to commit but untracked files present\n"
     ]
    },
    {
     "name": "stderr",
     "output_type": "stream",
     "text": [
      "warning: push.default is unset; its implicit value has changed in\n",
      "Git 2.0 from 'matching' to 'simple'. To squelch this message\n",
      "and maintain the traditional behavior, use:\n",
      "\n",
      "  git config --global push.default matching\n",
      "\n",
      "To squelch this message and adopt the new behavior now, use:\n",
      "\n",
      "  git config --global push.default simple\n",
      "\n",
      "When push.default is set to 'matching', git will push local branches\n",
      "to the remote branches that already exist with the same name.\n",
      "\n",
      "Since Git 2.0, Git defaults to the more conservative 'simple'\n",
      "behavior, which only pushes the current branch to the corresponding\n",
      "remote branch that 'git pull' uses to update the current branch.\n",
      "\n",
      "See 'git help config' and search for 'push.default' for further information.\n",
      "(the 'simple' mode was introduced in Git 1.7.11. Use the similar mode\n",
      "'current' instead of 'simple' if you sometimes use older versions of Git)\n",
      "\n",
      "Everything up-to-date\n"
     ]
    }
   ],
   "source": [
    "%%bash\n",
    "cd ~/notebooks/hds5210-week02/\n",
    "git commit -a -m \"Adding homework\"\n",
    "git push"
   ]
  },
  {
   "cell_type": "code",
   "execution_count": null,
   "metadata": {
    "collapsed": true
   },
   "outputs": [],
   "source": []
  },
  {
   "cell_type": "code",
   "execution_count": null,
   "metadata": {
    "collapsed": true
   },
   "outputs": [],
   "source": []
  }
 ],
 "metadata": {
  "kernelspec": {
   "display_name": "Python 3",
   "language": "python",
   "name": "python3"
  },
  "language_info": {
   "codemirror_mode": {
    "name": "ipython",
    "version": 3
   },
   "file_extension": ".py",
   "mimetype": "text/x-python",
   "name": "python",
   "nbconvert_exporter": "python",
   "pygments_lexer": "ipython3",
   "version": "3.4.3"
  }
 },
 "nbformat": 4,
 "nbformat_minor": 0
}
