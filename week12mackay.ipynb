{
 "cells": [
  {
   "cell_type": "markdown",
   "metadata": {},
   "source": [
    "1. Types of Databases 10 pts\n",
    "\n",
    "\n",
    "We talked in class about several different types of databaes and how they are typically used. For this first part of the assignment, think about a real-world scenario such where you might need to use a database. Maybe it's around the collection of claim data, or medical procedures, or drug administration, or public health. Describe how that data might be managed using two different database types. Explain why you chose those two and what some of the pros and cons might be of using each database type for that particular scenario.\n",
    "Describe you scenario\n",
    "Pick two different database styles (relational, document, key/value, graph, hadoop) and explain why you chose those two as options for this scenario.\n",
    "Explain the pros and cons of each, relative to your scenario"
   ]
  },
  {
   "cell_type": "markdown",
   "metadata": {
    "collapsed": true
   },
   "source": [
    "Data might be managed differently using two different database types because each database has different strengths that would help to manage large sets of data efficiently.\n",
    "\n",
    "\n",
    "I chose these two because key/value is easier to write, but seems to need a lot more code to work properly.  Hadoop seems to be well known, but does not sound very effective in majority of situations which means it is not compatiable with majority of companies- mainly that their are a lot of potential breach concerns with the system.\n",
    "\n",
    "The pros of hadoop are it can store and distribute very large data sets across hundreds of servers, it is cost effective, enables businesses to easily access new data sources, it processes data very quickly compared to many other databases, and it is faliure tolerant (or so google claims it to be).\n",
    "The cons of hadoop are it is easily manipulated by cyber hackers which is a security concern for companies, it is not effective for small data sets, and it has a restrictive programming model.\n",
    "\n",
    "\n",
    "The pros of a key/value database are that it is a simple and limited set of operations with the database, Supports simple queries very efficiently, and it is a very simple data-modeling pattern that is easy to understand.  \n",
    "The cons are  only queries that are efficient are simple, one-row-at-a-time queries, Not really a data model at all, in that there's no association between attributes that form an entity, you have to write a lot more application code to reassemble collections of key/value pairs into objects, and hard to use most ordinary SQL operations such as JOIN or GROUP BY."
   ]
  },
  {
   "cell_type": "markdown",
   "metadata": {},
   "source": [
    "2. Joins 5 pts\n",
    "\n",
    "\n",
    "In class, we discussed how relational databases perform joins between tables. Describe the relationship between what you learned about database joins and the join function that we created as part of the midterm by answering the questions below.\n",
    "Why do relational databases store data in different tables that have to later be joined together?\n",
    "How does a database do a join?\n",
    "In general, which is better: joining two tables inside a database with SQL or extracting the data from each table and doing the join in Python? Why?"
   ]
  },
  {
   "cell_type": "markdown",
   "metadata": {
    "collapsed": true
   },
   "source": [
    "Relational databases store data in different tables that have to be joined together later because they connect data in meaningful ways.  The store each set of data as its own table and then pull the meaningful pieces (rows or columns) from each table and join them so that we get only the data that we need from each data set.\n",
    "A database does a join by combining columns from one or more tables by using values common to each.   \n",
    "It is better to join in python because there are less steps so the data is joined faster. "
   ]
  },
  {
   "cell_type": "markdown",
   "metadata": {},
   "source": [
    "3. Database Access with mysqlclient 5 pts\n",
    "\n",
    "\n",
    "Use the Python mysqlclient module as demonstrated in class to query the cdi table to describe how many unique (distinct) values there are for each of the fields (columns) below:\n",
    "\n",
    "\n",
    "DataSource\n",
    "\n",
    "\n",
    "DataValueType\n",
    "\n",
    "\n",
    "LocationAbbr\n",
    "\n",
    "\n",
    "Question\n",
    "\n",
    "\n",
    "\n",
    "Topic\n",
    "\n",
    "\n",
    "TopicID\n",
    "\n",
    "\n",
    "YearEnd"
   ]
  },
  {
   "cell_type": "code",
   "execution_count": 3,
   "metadata": {
    "collapsed": false
   },
   "outputs": [],
   "source": [
    "import pymysql.cursors\n",
    "\n",
    "connection = pymysql.connect (\n",
    "    host='localhost',\n",
    "    user='slucor',\n",
    "    password='S1UC0R',\n",
    "    db='hds5210',\n",
    "    cursorclass=pymysql.cursors.DictCursor)\n",
    "\n",
    "cursor = connection.cursor()\n",
    "# Read a single record\n",
    "sql = \"SELECT DISTINCT datasource FROM cdi\"\n",
    "cursor.execute(sql)\n",
    "result = cursor.fetchall()\n",
    "connection.close()\n",
    "#none of these will run for me"
   ]
  },
  {
   "cell_type": "raw",
   "metadata": {
    "collapsed": true
   },
   "source": [
    "print (result)\n",
    "#none of these will run for me"
   ]
  },
  {
   "cell_type": "code",
   "execution_count": 4,
   "metadata": {
    "collapsed": false
   },
   "outputs": [
    {
     "name": "stdout",
     "output_type": "stream",
     "text": [
      "[master 9e78df4] Adding homework\n",
      " 2 files changed, 164 insertions(+), 12 deletions(-)\n",
      " create mode 100644 week12mackay.ipynb\n"
     ]
    },
    {
     "name": "stderr",
     "output_type": "stream",
     "text": [
      "warning: push.default is unset; its implicit value has changed in\n",
      "Git 2.0 from 'matching' to 'simple'. To squelch this message\n",
      "and maintain the traditional behavior, use:\n",
      "\n",
      "  git config --global push.default matching\n",
      "\n",
      "To squelch this message and adopt the new behavior now, use:\n",
      "\n",
      "  git config --global push.default simple\n",
      "\n",
      "When push.default is set to 'matching', git will push local branches\n",
      "to the remote branches that already exist with the same name.\n",
      "\n",
      "Since Git 2.0, Git defaults to the more conservative 'simple'\n",
      "behavior, which only pushes the current branch to the corresponding\n",
      "remote branch that 'git pull' uses to update the current branch.\n",
      "\n",
      "See 'git help config' and search for 'push.default' for further information.\n",
      "(the 'simple' mode was introduced in Git 1.7.11. Use the similar mode\n",
      "'current' instead of 'simple' if you sometimes use older versions of Git)\n",
      "\n",
      "To git@github.com:amackay1/hds5210-week02.git\n",
      "   0e8ab07..9e78df4  master -> master\n"
     ]
    }
   ],
   "source": [
    "%%bash\n",
    "cd ~/notebooks/hds5210-week02/\n",
    "git add week12mackay.ipynb\n",
    "git commit -a -m \"Adding homework\"\n",
    "git push"
   ]
  },
  {
   "cell_type": "code",
   "execution_count": null,
   "metadata": {
    "collapsed": true
   },
   "outputs": [],
   "source": []
  }
 ],
 "metadata": {
  "kernelspec": {
   "display_name": "Python 3",
   "language": "python",
   "name": "python3"
  },
  "language_info": {
   "codemirror_mode": {
    "name": "ipython",
    "version": 3
   },
   "file_extension": ".py",
   "mimetype": "text/x-python",
   "name": "python",
   "nbconvert_exporter": "python",
   "pygments_lexer": "ipython3",
   "version": "3.4.3"
  }
 },
 "nbformat": 4,
 "nbformat_minor": 0
}
