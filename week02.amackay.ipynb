{
 "cells": [
  {
   "cell_type": "code",
   "execution_count": 6,
   "metadata": {
    "collapsed": false
   },
   "outputs": [],
   "source": [
    "#+According to http://health.costhelper.com/tonsil-removal.html, the average cost of a tonsillectomy is $5,442 for someone \n",
    "#paying out of pocket without insurance.  The out of pocket cost for someone with a typical insurance plan is about $2,000. \n",
    "#If 2% of 10 to 14 year old kids in Missouri get their tonsils removed this year,and only 50% of those families are \n",
    "#covered by insurance, what is the total out of pocket cost for tonsillectomies for Missouri families for this year.  \n",
    "\n",
    "# +Use https://suburbanstats.org/population/how-many-people-live-in-missouri \n",
    "#        as your source for the number of 10 to 14 year olds in Missouri.\n",
    "        "
   ]
  },
  {
   "cell_type": "code",
   "execution_count": 31,
   "metadata": {
    "collapsed": true
   },
   "outputs": [],
   "source": [
    "average_cost_tonsillectomy = 5442.00\n",
    "typical_insurance_coverage = 2000.00\n",
    "population_MO = 202318.00\n"
   ]
  },
  {
   "cell_type": "code",
   "execution_count": 32,
   "metadata": {
    "collapsed": false
   },
   "outputs": [
    {
     "data": {
      "text/plain": [
       "4046.36"
      ]
     },
     "execution_count": 32,
     "metadata": {},
     "output_type": "execute_result"
    }
   ],
   "source": [
    "# Calculate Percent of 10-14 year olds who need, in theory, tonsillectomies\n",
    "population_MO = 202318.00\n",
    "percent_population_MO = 202318.00 * 0.02\n",
    "percent_population_MO\n"
   ]
  },
  {
   "cell_type": "code",
   "execution_count": 20,
   "metadata": {
    "collapsed": false
   },
   "outputs": [
    {
     "data": {
      "text/plain": [
       "2023.0"
      ]
     },
     "execution_count": 20,
     "metadata": {},
     "output_type": "execute_result"
    }
   ],
   "source": [
    "# Calcualte percent of families with insurance that will cover tonsillectomies\n",
    "percent_population_MO = 4046.0\n",
    "families_w_insurance = 4046.0/2.0\n",
    "families_w_insurance"
   ]
  },
  {
   "cell_type": "code",
   "execution_count": 29,
   "metadata": {
    "collapsed": false
   },
   "outputs": [
    {
     "data": {
      "text/plain": [
       "6963166.0"
      ]
     },
     "execution_count": 29,
     "metadata": {},
     "output_type": "execute_result"
    }
   ],
   "source": [
    "# Calcualte total Revenue from tonsillectomies for families with insurance coverage\n",
    "average_cost_tonsillectomy = 5442.00\n",
    "typical_insurance_coverage = 2000.00\n",
    "population_no_insurance = 2023.0\n",
    "families_w_insurance = 2023.0\n",
    "cost_insured_families = (families_w_insurance * average_cost_tonsillectomy) - (families_w_insurance * typical_insurance_coverage)\n",
    "cost_insured_families\n"
   ]
  },
  {
   "cell_type": "code",
   "execution_count": 33,
   "metadata": {
    "collapsed": false
   },
   "outputs": [
    {
     "data": {
      "text/plain": [
       "17972332.0"
      ]
     },
     "execution_count": 33,
     "metadata": {},
     "output_type": "execute_result"
    }
   ],
   "source": [
    "# Calculate revenue from non-insured families, then total revenue of insured and non-insured revenues combined\n",
    "population_no_insurance = 2023.00\n",
    "avereage_cost_tonsillectomy = 5442.00\n",
    "cost_insured_families = 6963166.00\n",
    "total_revenue = (population_no_insurance * average_cost_tonsillectomy) + cost_insured_families\n",
    "total_revenue"
   ]
  },
  {
   "cell_type": "code",
   "execution_count": 39,
   "metadata": {
    "collapsed": false
   },
   "outputs": [
    {
     "name": "stderr",
     "output_type": "stream",
     "text": [
      "bash: line 1: cd: /home/amackay1/notebooks/hds5210-week02/: No such file or directory\n",
      "fatal: Not a git repository (or any of the parent directories): .git\n",
      "fatal: Not a git repository (or any of the parent directories): .git\n",
      "fatal: Not a git repository (or any of the parent directories): .git\n"
     ]
    }
   ],
   "source": [
    "%%bash\n",
    "cd ~/notebooks/hds5210-week02/\n",
    "git add week02-amackay1.ipynb\n",
    "git commit -a -m \"Adding homework\"\n",
    "git push"
   ]
  },
  {
   "cell_type": "code",
   "execution_count": 36,
   "metadata": {
    "collapsed": false
   },
   "outputs": [
    {
     "name": "stderr",
     "output_type": "stream",
     "text": [
      "fatal: Not a git repository (or any of the parent directories): .git\n"
     ]
    }
   ],
   "source": [
    "%%bash\n",
    "git pull"
   ]
  },
  {
   "cell_type": "code",
   "execution_count": 40,
   "metadata": {
    "collapsed": false
   },
   "outputs": [
    {
     "name": "stderr",
     "output_type": "stream",
     "text": [
      "bash: line 1: cd: /home/amackay1/notebooks/hds5210-week02/: No such file or directory\n",
      "fatal: Not a git repository (or any of the parent directories): .git\n",
      "fatal: Not a git repository (or any of the parent directories): .git\n",
      "fatal: Not a git repository (or any of the parent directories): .git\n"
     ]
    }
   ],
   "source": [
    "%%bash\n",
    "cd ~/notebooks/hds5210-week02/\n",
    "git add week02-amackay1ipynb\n",
    "git commit -a -m \"Adding homework\"\n",
    "git push"
   ]
  },
  {
   "cell_type": "code",
   "execution_count": null,
   "metadata": {
    "collapsed": true
   },
   "outputs": [],
   "source": []
  }
 ],
 "metadata": {
  "kernelspec": {
   "display_name": "Python 3",
   "language": "python",
   "name": "python3"
  },
  "language_info": {
   "codemirror_mode": {
    "name": "ipython",
    "version": 3
   },
   "file_extension": ".py",
   "mimetype": "text/x-python",
   "name": "python",
   "nbconvert_exporter": "python",
   "pygments_lexer": "ipython3",
   "version": "3.4.3"
  }
 },
 "nbformat": 4,
 "nbformat_minor": 0
}
