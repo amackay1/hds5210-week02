{
 "cells": [
  {
   "cell_type": "markdown",
   "metadata": {},
   "source": [
    "#1  Dose Class \n",
    "Take what we put together for the assignment in week 3 around parsing a string like \"Amoxicillin 10 mg/day\" and create a new \n",
    "class in a separate module that will help us manage that kind of information.  Create a module file simply named \"dose\". \n",
    "In that new file, create a class named Dose. Your Dose class should have the following attributes and methods:\n",
    "    \n",
    "* __init__(self, drug, amount, mass_unit, time_unit)\n",
    "* __init__(self, text)\n",
    "* drug for the drug name as a string\n",
    "* amount for the the amount as a float\n",
    "* mass_unit for just the mass units part as a string\n",
    "* time_unit for just the time units part as a string"
   ]
  },
  {
   "cell_type": "code",
   "execution_count": 5,
   "metadata": {
    "collapsed": false
   },
   "outputs": [
    {
     "name": "stdout",
     "output_type": "stream",
     "text": [
      "Amoxicillin\n",
      "100\n",
      "mg\n",
      "hr\n"
     ]
    }
   ],
   "source": [
    "import jupyterimporter \n",
    "from dose import Dose\n",
    "d = Dose('Amoxicillin 100 mg/hr')\n",
    "print(d.drug)\n",
    "print(d.amount)\n",
    "print(d.mass_unit)\n",
    "print(d.time_unit)"
   ]
  },
  {
   "cell_type": "markdown",
   "metadata": {},
   "source": [
    "#2 Extending Dose\n",
    "Add another method to your Dose class like the following.\n",
    "* is_overdose(self, reference) which compares this Dose with the reference Dose\n",
    "For the sake of simplicity, don't worry about trying to convert units. Just check to see if they are the same in both the Dose \n",
    "and the reference Dose.  If the drug and units are the same, and the amount is less than or equal to the reference amount, \n",
    "return False. If the drug and units are not the same, then return None. Otherwise return True.  Note, 'None' is a special kind \n",
    "of value that any variable can have. It means that the value of this variable is undefined. Verify your work with the examples\n",
    "below.\n",
    "ref = Dose('Amoxicillin 50 mg/hr')\n",
    "d.is_overdose(ref)\n",
    "Should return True\n",
    "\n",
    "d.is_overdose(d)\n",
    "Should return False\n",
    "\n",
    "d.is_overdose(Dose('Penicillin 100 mg/day'))\n",
    "Should return None"
   ]
  },
  {
   "cell_type": "code",
   "execution_count": 2,
   "metadata": {
    "collapsed": false
   },
   "outputs": [
    {
     "name": "stdout",
     "output_type": "stream",
     "text": [
      "True\n"
     ]
    }
   ],
   "source": [
    "ref = Dose('Amoxicillin 50 mg/hr')\n",
    "print (d.is_overdose(ref))"
   ]
  },
  {
   "cell_type": "code",
   "execution_count": 3,
   "metadata": {
    "collapsed": false
   },
   "outputs": [
    {
     "name": "stdout",
     "output_type": "stream",
     "text": [
      "False\n"
     ]
    }
   ],
   "source": [
    "print (d.is_overdose(d))"
   ]
  },
  {
   "cell_type": "code",
   "execution_count": 4,
   "metadata": {
    "collapsed": false
   },
   "outputs": [
    {
     "name": "stdout",
     "output_type": "stream",
     "text": [
      "None\n"
     ]
    }
   ],
   "source": [
    "print (d.is_overdose(Dose('Penicillin 100 mg/day')))"
   ]
  },
  {
   "cell_type": "code",
   "execution_count": 8,
   "metadata": {
    "collapsed": false
   },
   "outputs": [
    {
     "name": "stdout",
     "output_type": "stream",
     "text": [
      "[master 1a0e851] Adding homework\n",
      " 4 files changed, 1171 insertions(+)\n",
      " create mode 100644 dose.ipynb\n",
      " create mode 100644 week03amackay-Copy1.ipynb\n",
      " create mode 100644 week04allisonmackay.ipynb\n",
      " create mode 100644 week05.allisonmackay.ipynb\n"
     ]
    },
    {
     "name": "stderr",
     "output_type": "stream",
     "text": [
      "warning: push.default is unset; its implicit value has changed in\n",
      "Git 2.0 from 'matching' to 'simple'. To squelch this message\n",
      "and maintain the traditional behavior, use:\n",
      "\n",
      "  git config --global push.default matching\n",
      "\n",
      "To squelch this message and adopt the new behavior now, use:\n",
      "\n",
      "  git config --global push.default simple\n",
      "\n",
      "When push.default is set to 'matching', git will push local branches\n",
      "to the remote branches that already exist with the same name.\n",
      "\n",
      "Since Git 2.0, Git defaults to the more conservative 'simple'\n",
      "behavior, which only pushes the current branch to the corresponding\n",
      "remote branch that 'git pull' uses to update the current branch.\n",
      "\n",
      "See 'git help config' and search for 'push.default' for further information.\n",
      "(the 'simple' mode was introduced in Git 1.7.11. Use the similar mode\n",
      "'current' instead of 'simple' if you sometimes use older versions of Git)\n",
      "\n",
      "To git@github.com:amackay1/hds5210-week02.git\n",
      "   b07d55d..1a0e851  master -> master\n"
     ]
    }
   ],
   "source": [
    "%%bash\n",
    "cd ~/notebooks/hds5210-week02/\n",
    "git add week05.allisonmackay.ipynb\n",
    "git add week03amackay-Copy1.ipynb\n",
    "git add dose.ipynb\n",
    "git add week04allisonmackay.ipynb\n",
    "git commit -a -m \"Adding homework\"\n",
    "git push"
   ]
  },
  {
   "cell_type": "code",
   "execution_count": null,
   "metadata": {
    "collapsed": true
   },
   "outputs": [],
   "source": []
  }
 ],
 "metadata": {
  "kernelspec": {
   "display_name": "Python 3",
   "language": "python",
   "name": "python3"
  },
  "language_info": {
   "codemirror_mode": {
    "name": "ipython",
    "version": 3
   },
   "file_extension": ".py",
   "mimetype": "text/x-python",
   "name": "python",
   "nbconvert_exporter": "python",
   "pygments_lexer": "ipython3",
   "version": "3.4.3"
  }
 },
 "nbformat": 4,
 "nbformat_minor": 0
}
