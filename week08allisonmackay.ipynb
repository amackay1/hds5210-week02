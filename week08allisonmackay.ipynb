{
 "cells": [
  {
   "cell_type": "markdown",
   "metadata": {
    "collapsed": true
   },
   "source": [
    "# 1 Count Up Dictionary Values"
   ]
  },
  {
   "cell_type": "markdown",
   "metadata": {},
   "source": [
    "# 2 Count Up Unique Values are in Values"
   ]
  },
  {
   "cell_type": "code",
   "execution_count": 1,
   "metadata": {
    "collapsed": true
   },
   "outputs": [],
   "source": [
    "patient_ages = {\n",
    "    \"E143291\": 19,\n",
    "    \"E872839\": 32,\n",
    "    \"E878198\": 19,\n",
    "    \"E871111\": 21,\n",
    "    \"E143299\": 3,\n",
    "    \"E123332\": 21,\n",
    "    \"E989891\":19\n",
    "} "
   ]
  },
  {
   "cell_type": "code",
   "execution_count": 2,
   "metadata": {
    "collapsed": false
   },
   "outputs": [],
   "source": [
    "age_patients = {}\n",
    "AGES =  []\n",
    "total = []\n",
    "for patient, age in patient_ages.items():\n",
    "    if age in age_patients:\n",
    "        age_patients[age].append(patient)\n",
    "    else:\n",
    "        age_patients[age] = [patient]\n",
    "       \n",
    "age_patients\n",
    "for age, people in age_patients.items():\n",
    "    a = age\n",
    "    b = people\n",
    "    AGES.append(a)\n",
    "    total.append(len(b))\n",
    "    \n",
    "d = dict(zip(AGES,total))"
   ]
  },
  {
   "cell_type": "code",
   "execution_count": 3,
   "metadata": {
    "collapsed": false
   },
   "outputs": [
    {
     "data": {
      "text/plain": [
       "{3: 1, 19: 3, 21: 2, 32: 1}"
      ]
     },
     "execution_count": 3,
     "metadata": {},
     "output_type": "execute_result"
    }
   ],
   "source": [
    "d"
   ]
  },
  {
   "cell_type": "code",
   "execution_count": 4,
   "metadata": {
    "collapsed": false
   },
   "outputs": [
    {
     "data": {
      "text/plain": [
       "4"
      ]
     },
     "execution_count": 4,
     "metadata": {},
     "output_type": "execute_result"
    }
   ],
   "source": [
    "len(dict(age_patients))"
   ]
  },
  {
   "cell_type": "markdown",
   "metadata": {},
   "source": [
    "# 3 Convert a List to a Dictionary"
   ]
  },
  {
   "cell_type": "code",
   "execution_count": 5,
   "metadata": {
    "collapsed": true
   },
   "outputs": [],
   "source": [
    "test = [['Boal', 'Paul'],\n",
    "        ['Duck', 'Donald'],\n",
    "        ['Duck', 'Daisy'],\n",
    "        ['Boal', 'Ada'],\n",
    "        ['Boal', 'Teddy'],\n",
    "        ['Westhus', 'Eric']]"
   ]
  },
  {
   "cell_type": "code",
   "execution_count": 6,
   "metadata": {
    "collapsed": false
   },
   "outputs": [
    {
     "data": {
      "text/plain": [
       "{'Boal': ['Paul', 'Ada', 'Teddy'],\n",
       " 'Duck': ['Donald', 'Daisy'],\n",
       " 'Westhus': ['Donald', 'Daisy']}"
      ]
     },
     "execution_count": 6,
     "metadata": {},
     "output_type": "execute_result"
    }
   ],
   "source": [
    "last = []\n",
    "first = []\n",
    "boal = []\n",
    "duck = []\n",
    "westhus = []\n",
    "for name in test:\n",
    "    if name [0] not in last:\n",
    "        last.append(name[0])\n",
    "    if name[0] is 'Boal':\n",
    "        boal.append(name[1])\n",
    "        first.append(boal)\n",
    "    elif name[0] is 'Duck':\n",
    "        duck.append(name[1])\n",
    "        first.append(duck)\n",
    "    elif name[0] is 'Westhus':\n",
    "        westhus.append(name[1])\n",
    "        first.append(westhus)\n",
    "d = dict(zip(last, first))\n",
    "\n",
    "d"
   ]
  },
  {
   "cell_type": "markdown",
   "metadata": {},
   "source": [
    "# 4 Join Using a Dictionary "
   ]
  },
  {
   "cell_type": "markdown",
   "metadata": {},
   "source": [
    "The output we expect to get is:\n",
    "\n",
    "[['Boal', 'too short'],\n",
    "\n",
    " ['Boal', 'too long'],\n",
    " \n",
    " ['Jones', 'just right'],\n",
    " \n",
    " ['Ashbury', 'too short']]"
   ]
  },
  {
   "cell_type": "code",
   "execution_count": 7,
   "metadata": {
    "collapsed": true
   },
   "outputs": [],
   "source": [
    "avg_los = {\n",
    "    \"Hemolytic jaundice and perinatal jaundice\" : 2,\n",
    "    \"Medical examination/evaluation\" : 3.2,\n",
    "    \"Liveborn\" : 3.2,\n",
    "    \"Trauma to perineum and vulva\" : 2.1,\n",
    "    \"Normal pregnancy and/or delivery\" : 2,\n",
    "    \"Umbilical cord complication\" : 2.1,\n",
    "    \"Forceps delivery\" : 2.2,\n",
    "    \"Administrative/social admission\" : 4.2,\n",
    "    \"Prolonged pregnancy\" : 2.4,\n",
    "    \"Other complications of pregnancy\" : 2.5\n",
    "}\n",
    "\n",
    "patients = [\n",
    "    ['Boal', 'Medical examination/evaluation', 1.1],\n",
    "    ['Boal', 'Other complications of pregnancy', 3.3],\n",
    "    ['Jones', 'Liveborn', 3.2],\n",
    "    ['Ashbury', 'Forceps delivery', 2.0]\n",
    "]"
   ]
  },
  {
   "cell_type": "code",
   "execution_count": 8,
   "metadata": {
    "collapsed": false
   },
   "outputs": [
    {
     "data": {
      "text/plain": [
       "{'Forceps delivery': ['Jones', 'Liveborn', 3.2],\n",
       " 'Medical examination/evaluation': ['Boal',\n",
       "  'Medical examination/evaluation',\n",
       "  1.1],\n",
       " 'Normal pregnancy and/or delivery': ['Ashbury', 'Forceps delivery', 2.0],\n",
       " 'Other complications of pregnancy': ['Boal',\n",
       "  'Other complications of pregnancy',\n",
       "  3.3]}"
      ]
     },
     "execution_count": 8,
     "metadata": {},
     "output_type": "execute_result"
    }
   ],
   "source": [
    "d = dict(zip(avg_los, patients))\n",
    "d"
   ]
  },
  {
   "cell_type": "code",
   "execution_count": 9,
   "metadata": {
    "collapsed": false
   },
   "outputs": [
    {
     "data": {
      "text/plain": [
       "[['Boal', 'too long'],\n",
       " ['Boal', 'too short'],\n",
       " ['Jones', 'just right'],\n",
       " ['Ashbury', 'too long']]"
      ]
     },
     "execution_count": 9,
     "metadata": {},
     "output_type": "execute_result"
    }
   ],
   "source": [
    "los = []\n",
    "for stay in patients:\n",
    "    a = 'too long'\n",
    "    b = 'too short'\n",
    "    c = 'just right'\n",
    "    d = stay[1]\n",
    "    if stay[2] == avg_los[d]:\n",
    "        los.append([stay[0], c])\n",
    "    elif stay[2] > avg_los[d]:\n",
    "        los.append([stay[0], b])\n",
    "    elif stay[2] < avg_los[d]:\n",
    "        los.append([stay[0], a])\n",
    "        \n",
    "los"
   ]
  },
  {
   "cell_type": "code",
   "execution_count": 10,
   "metadata": {
    "collapsed": false
   },
   "outputs": [
    {
     "name": "stdout",
     "output_type": "stream",
     "text": [
      "[master 26c6fbd] Adding homework\n",
      " 1 file changed, 52 insertions(+), 4 deletions(-)\n"
     ]
    },
    {
     "name": "stderr",
     "output_type": "stream",
     "text": [
      "warning: push.default is unset; its implicit value has changed in\n",
      "Git 2.0 from 'matching' to 'simple'. To squelch this message\n",
      "and maintain the traditional behavior, use:\n",
      "\n",
      "  git config --global push.default matching\n",
      "\n",
      "To squelch this message and adopt the new behavior now, use:\n",
      "\n",
      "  git config --global push.default simple\n",
      "\n",
      "When push.default is set to 'matching', git will push local branches\n",
      "to the remote branches that already exist with the same name.\n",
      "\n",
      "Since Git 2.0, Git defaults to the more conservative 'simple'\n",
      "behavior, which only pushes the current branch to the corresponding\n",
      "remote branch that 'git pull' uses to update the current branch.\n",
      "\n",
      "See 'git help config' and search for 'push.default' for further information.\n",
      "(the 'simple' mode was introduced in Git 1.7.11. Use the similar mode\n",
      "'current' instead of 'simple' if you sometimes use older versions of Git)\n",
      "\n",
      "To git@github.com:amackay1/hds5210-week02.git\n",
      "   5c93634..26c6fbd  master -> master\n"
     ]
    }
   ],
   "source": [
    "%%bash\n",
    "cd ~/notebooks/hds5210-week02/\n",
    "git add week07allisonmackay.ipynb\n",
    "git commit -a -m \"Adding homework\"\n",
    "git push"
   ]
  }
 ],
 "metadata": {
  "kernelspec": {
   "display_name": "Python 3",
   "language": "python",
   "name": "python3"
  },
  "language_info": {
   "codemirror_mode": {
    "name": "ipython",
    "version": 3
   },
   "file_extension": ".py",
   "mimetype": "text/x-python",
   "name": "python",
   "nbconvert_exporter": "python",
   "pygments_lexer": "ipython3",
   "version": "3.4.3"
  }
 },
 "nbformat": 4,
 "nbformat_minor": 0
}
