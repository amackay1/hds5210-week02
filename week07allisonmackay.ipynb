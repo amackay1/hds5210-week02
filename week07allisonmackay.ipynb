{
 "cells": [
  {
   "cell_type": "markdown",
   "metadata": {},
   "source": [
    "1- Line Count\n",
    "\n",
    "Write a function that, given a file name as a string, will count the number of lines in the file. Use the function definition that's provided below, and then test your output with the next cell."
   ]
  },
  {
   "cell_type": "code",
   "execution_count": 7,
   "metadata": {
    "collapsed": false
   },
   "outputs": [],
   "source": [
    "#should return 53\n",
    "def line_count(file):\n",
    "    file = str(file)\n",
    "    with open(file) as csv:\n",
    "        lines = csv.readlines()\n",
    "        count = len(lines)\n",
    "    print(count)   \n",
    "    \n",
    "    "
   ]
  },
  {
   "cell_type": "code",
   "execution_count": 8,
   "metadata": {
    "collapsed": false
   },
   "outputs": [
    {
     "name": "stdout",
     "output_type": "stream",
     "text": [
      "53\n"
     ]
    }
   ],
   "source": [
    "line_count('/week07/preexisting.csv')"
   ]
  },
  {
   "cell_type": "markdown",
   "metadata": {},
   "source": [
    "2-Get a List of Distinct Values\n",
    "\n",
    "Write a function that, given a CSV file name as a string and a column number, will create an array with the distinct values in that particular column of the file. Assume the first column is 0 just like in Python lists. This file has a header and footer row. You can include those in your list of values."
   ]
  },
  {
   "cell_type": "code",
   "execution_count": 3,
   "metadata": {
    "collapsed": false
   },
   "outputs": [],
   "source": [
    "#This should return a list that includes all of the states, Washington DC, a header (State), and a footer (Total)\n",
    "import csv\n",
    "\n",
    "def facet(file, column):\n",
    "    #file = str(file)\n",
    "    column = column - 1\n",
    "    with open(file) as practice:\n",
    "        csvreader = csv.reader(practice)\n",
    "        data= list(csvreader)\n",
    "        end = []\n",
    "        for i in data:\n",
    "            c = i[column]\n",
    "            end.append(c)\n",
    "        print (end)"
   ]
  },
  {
   "cell_type": "code",
   "execution_count": 5,
   "metadata": {
    "collapsed": false
   },
   "outputs": [
    {
     "name": "stdout",
     "output_type": "stream",
     "text": [
      "['State', 'Alabama', 'Alaska', 'Arizona', 'Arkansas', 'California', 'Colorado', 'Connecticut', 'Delaware', 'District of Columbia', 'Florida', 'Georgia', 'Hawaii', 'Idaho', 'Illinois', 'Indiana', 'Iowa', 'Kansas', 'Kentucky', 'Louisiana', 'Maine', 'Maryland', 'Massachusetts*', 'Michigan', 'Minnesota', 'Mississippi', 'Missouri', 'Montana', 'Nebraska', 'Nevada', 'New Hampshire', 'New Jersey', 'New Mexico', 'New York', 'North Carolina', 'North Dakota', 'Ohio', 'Oklahoma', 'Oregon', 'Pennsylvania', 'Rhode Island', 'South Carolina', 'South Dakota', 'Tennessee', 'Texas', 'Utah', 'Vermont*', 'Virginia', 'Washington', 'West Virginia', 'Wisconsin', 'Wyoming', 'Total']\n",
      "['Enrolled Through December 31, 2013', '123', '25', '1392', '129', '2265', '113', '63', '49', '25', '1749', '684', '31', '86', '513', '398', '43', '58', '210', '670', '0', '1211', '4', '438', '146', '54', '580', '0', '69', '216', '127', '434', '815', '1209', '302', '10', '723', '395', '306', '1328', '0', '383', '24', '312', '1627', '107', '1', '910', '57', '33', '708', '52', '21207']\n"
     ]
    }
   ],
   "source": [
    "facet('/week07/preexisting.csv',1)\n",
    "facet('/week07/preexisting.csv', 4)"
   ]
  },
  {
   "cell_type": "markdown",
   "metadata": {},
   "source": [
    "3- Average Up the Enrollees\n",
    "\n",
    "In columns 3 through the end, we have a series of numbers representing how many people were enrolled in these programs. Read through the input file in /week07/preexisting.csv and print out the state (column 0) and the average enrollees across those other columns. Ignore the header row, but do calculate the average for the footer row (Total)."
   ]
  },
  {
   "cell_type": "code",
   "execution_count": 7,
   "metadata": {
    "collapsed": false
   },
   "outputs": [
    {
     "name": "stdout",
     "output_type": "stream",
     "text": [
      "[['Alabama', 193], ['Alaska', 193], ['Arizona', 193], ['Arkansas', 193], ['California', 193], ['Colorado', 193], ['Connecticut', 193], ['Delaware', 193], ['District of Columbia', 193], ['Florida', 193], ['Georgia', 193], ['Hawaii', 193], ['Idaho', 193], ['Illinois', 193], ['Indiana', 193], ['Iowa', 193], ['Kansas', 193], ['Kentucky', 193], ['Louisiana', 193], ['Maine', 193], ['Maryland', 193], ['Massachusetts*', 193], ['Michigan', 193], ['Minnesota', 193], ['Mississippi', 193], ['Missouri', 193], ['Montana', 193], ['Nebraska', 193], ['Nevada', 193], ['New Hampshire', 193], ['New Jersey', 193], ['New Mexico', 193], ['New York', 193], ['North Carolina', 193], ['North Dakota', 193], ['Ohio', 193], ['Oklahoma', 193], ['Oregon', 193], ['Pennsylvania', 193], ['Rhode Island', 193], ['South Carolina', 193], ['South Dakota', 193], ['Tennessee', 193], ['Texas', 193], ['Utah', 193], ['Vermont*', 193], ['Virginia', 193], ['Washington', 193], ['West Virginia', 193], ['Wisconsin', 193], ['Wyoming', 193]]\n"
     ]
    }
   ],
   "source": [
    "import csv\n",
    "\n",
    "with open('/week07/preexisting.csv') as new:\n",
    "    csvread = csv.reader(new)\n",
    "    data = list(csvread)\n",
    "    out = []\n",
    "    for i in data:\n",
    "        if i[0] != 'State' and i[0] != 'Total':\n",
    "            state = i[0]\n",
    "            rest = i[2:]\n",
    "            total = sum([int(q) for q in b])\n",
    "            average = round(total/36)\n",
    "            together = [state, average]\n",
    "            out.append(together)\n",
    "    print(out)"
   ]
  },
  {
   "cell_type": "markdown",
   "metadata": {},
   "source": [
    "4- Output\n",
    "\n",
    "Take your output from #3 above and write that to a simple tab-delimited text file named avg.txt. Include this file in your github repository and submit it with the assignment."
   ]
  },
  {
   "cell_type": "code",
   "execution_count": null,
   "metadata": {
    "collapsed": false
   },
   "outputs": [],
   "source": [
    "with open('avg.txt','w') as output:\n",
    "    for items in out:\n",
    "        out1 = \"{:s}\\t{:n}\\n\".format(items[0],items[1])\n",
    "        output.write(out1)"
   ]
  },
  {
   "cell_type": "code",
   "execution_count": null,
   "metadata": {
    "collapsed": false
   },
   "outputs": [],
   "source": [
    "%%bash\n",
    "cat avg.txt"
   ]
  },
  {
   "cell_type": "code",
   "execution_count": null,
   "metadata": {
    "collapsed": true
   },
   "outputs": [],
   "source": [
    "%%bash\n",
    "cd ~/notebooks/hds5210-week02/\n",
    "git add week07allisonmackay.ipynb\n",
    "git commit -a -m \"Adding homework\"\n",
    "git push"
   ]
  }
 ],
 "metadata": {
  "kernelspec": {
   "display_name": "Python 3",
   "language": "python",
   "name": "python3"
  },
  "language_info": {
   "codemirror_mode": {
    "name": "ipython",
    "version": 3
   },
   "file_extension": ".py",
   "mimetype": "text/x-python",
   "name": "python",
   "nbconvert_exporter": "python",
   "pygments_lexer": "ipython3",
   "version": "3.4.3"
  }
 },
 "nbformat": 4,
 "nbformat_minor": 0
}
