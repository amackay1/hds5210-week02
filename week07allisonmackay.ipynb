{
 "cells": [
  {
   "cell_type": "markdown",
   "metadata": {},
   "source": [
    "1- Line Count\n",
    "\n",
    "Write a function that, given a file name as a string, will count the number of lines in the file. Use the function definition that's provided below, and then test your output with the next cell."
   ]
  },
  {
   "cell_type": "code",
   "execution_count": 7,
   "metadata": {
    "collapsed": false
   },
   "outputs": [],
   "source": [
    "#should return 53\n",
    "def line_count(file):\n",
    "    file = str(file)\n",
    "    with open(file) as csv:\n",
    "        lines = csv.readlines()\n",
    "        count = len(lines)\n",
    "    print(count)   \n",
    "    \n",
    "    "
   ]
  },
  {
   "cell_type": "code",
   "execution_count": 8,
   "metadata": {
    "collapsed": false
   },
   "outputs": [
    {
     "name": "stdout",
     "output_type": "stream",
     "text": [
      "53\n"
     ]
    }
   ],
   "source": [
    "line_count('/week07/preexisting.csv')"
   ]
  },
  {
   "cell_type": "markdown",
   "metadata": {},
   "source": [
    "2-Get a List of Distinct Values\n",
    "\n",
    "Write a function that, given a CSV file name as a string and a column number, will create an array with the distinct values in that particular column of the file. Assume the first column is 0 just like in Python lists. This file has a header and footer row. You can include those in your list of values."
   ]
  },
  {
   "cell_type": "code",
   "execution_count": 9,
   "metadata": {
    "collapsed": false
   },
   "outputs": [],
   "source": [
    "#This should return a list that includes all of the states, Washington DC, a header (State), and a footer (Total)\n",
    "import csv\n",
    "\n",
    "def facet(file, column):\n",
    "    file = str(file)\n",
    "    column = int(column) - 1\n",
    "    with open(file) as practice:\n",
    "        csvreader = csv.reader(practice)\n",
    "        data= list(csvreader)\n",
    "        end = []\n",
    "        for i in data:\n",
    "            c = i[column]\n",
    "            end.append(c)\n",
    "        print (end)"
   ]
  },
  {
   "cell_type": "code",
   "execution_count": 10,
   "metadata": {
    "collapsed": false
   },
   "outputs": [
    {
     "name": "stdout",
     "output_type": "stream",
     "text": [
      "['State', 'Alabama', 'Alaska', 'Arizona', 'Arkansas', 'California', 'Colorado', 'Connecticut', 'Delaware', 'District of Columbia', 'Florida', 'Georgia', 'Hawaii', 'Idaho', 'Illinois', 'Indiana', 'Iowa', 'Kansas', 'Kentucky', 'Louisiana', 'Maine', 'Maryland', 'Massachusetts*', 'Michigan', 'Minnesota', 'Mississippi', 'Missouri', 'Montana', 'Nebraska', 'Nevada', 'New Hampshire', 'New Jersey', 'New Mexico', 'New York', 'North Carolina', 'North Dakota', 'Ohio', 'Oklahoma', 'Oregon', 'Pennsylvania', 'Rhode Island', 'South Carolina', 'South Dakota', 'Tennessee', 'Texas', 'Utah', 'Vermont*', 'Virginia', 'Washington', 'West Virginia', 'Wisconsin', 'Wyoming', 'Total']\n"
     ]
    }
   ],
   "source": [
    "facet('/week07/preexisting.csv',1)"
   ]
  },
  {
   "cell_type": "markdown",
   "metadata": {},
   "source": [
    "3- Average Up the Enrollees\n",
    "\n",
    "In columns 3 through the end, we have a series of numbers representing how many people were enrolled in these programs. Read through the input file in /week07/preexisting.csv and print out the state (column 0) and the average enrollees across those other columns. Ignore the header row, but do calculate the average for the footer row (Total)."
   ]
  },
  {
   "cell_type": "code",
   "execution_count": 11,
   "metadata": {
    "collapsed": false
   },
   "outputs": [
    {
     "name": "stdout",
     "output_type": "stream",
     "text": [
      "[['Alabama', 506], ['Alaska', 40], ['Arizona', 2924], ['Arkansas', 570], ['California', 9277], ['Colorado', 1018], ['Connecticut', 359], ['Delaware', 200], ['District of Columbia', 57], ['Florida', 6386], ['Georgia', 2250], ['Hawaii', 106], ['Idaho', 466], ['Illinois', 2358], ['Indiana', 1158], ['Iowa', 270], ['Kansas', 353], ['Kentucky', 814], ['Louisiana', 923], ['Maine', 39], ['Maryland', 1005], ['Massachusetts*', 12], ['Michigan', 1314], ['Minnesota', 483], ['Mississippi', 242], ['Missouri', 1375], ['Montana', 276], ['Nebraska', 263], ['Nevada', 835], ['New Hampshire', 415], ['New Jersey', 965], ['New Mexico', 1022], ['New York', 3279], ['North Carolina', 3478], ['North Dakota', 58], ['Ohio', 2448], ['Oklahoma', 698], ['Oregon', 1181], ['Pennsylvania', 5073], ['Rhode Island', 135], ['South Carolina', 1324], ['South Dakota', 148], ['Tennessee', 1213], ['Texas', 5835], ['Utah', 767], ['Vermont*', 1], ['Virginia', 1740], ['Washington', 658], ['West Virginia', 116], ['Wisconsin', 1481], ['Wyoming', 193]]\n"
     ]
    }
   ],
   "source": [
    "import csv\n",
    "\n",
    "with open('/week07/preexisting.csv') as new:\n",
    "    csvread = csv.reader(new)\n",
    "    data = list(csvread)\n",
    "    out = []\n",
    "    for i in data:\n",
    "        if i[0] == 'State':\n",
    "            out = out\n",
    "        elif i[0] == 'Total':\n",
    "            out = out\n",
    "        else:\n",
    "            a = i[0]\n",
    "            b= i[2:]\n",
    "            c = [int(q) for q in b]\n",
    "            total = sum(c)\n",
    "            average = round(total/36)\n",
    "            together = [a, average]\n",
    "            out.append(together)\n",
    "    print(out)"
   ]
  },
  {
   "cell_type": "markdown",
   "metadata": {},
   "source": [
    "4- Output\n",
    "\n",
    "Take your output from #3 above and write that to a simple tab-delimited text file named avg.txt. Include this file in your github repository and submit it with the assignment."
   ]
  },
  {
   "cell_type": "code",
   "execution_count": null,
   "metadata": {
    "collapsed": false
   },
   "outputs": [],
   "source": [
    "with open('avg.txt','w') as output:\n",
    "    for items in out:\n",
    "        out1 = \"{:s}\\t{:n}\\n\".format(items[0],items[1])\n",
    "        output.write(out1)"
   ]
  },
  {
   "cell_type": "code",
   "execution_count": null,
   "metadata": {
    "collapsed": false
   },
   "outputs": [],
   "source": [
    "%%bash\n",
    "cat avg.txt"
   ]
  },
  {
   "cell_type": "code",
   "execution_count": null,
   "metadata": {
    "collapsed": true
   },
   "outputs": [],
   "source": [
    "%%bash\n",
    "cd ~/notebooks/hds5210-week02/\n",
    "git add week07allisonmackay.ipynb\n",
    "git commit -a -m \"Adding homework\"\n",
    "git push"
   ]
  }
 ],
 "metadata": {
  "kernelspec": {
   "display_name": "Python 3",
   "language": "python",
   "name": "python3"
  },
  "language_info": {
   "codemirror_mode": {
    "name": "ipython",
    "version": 3
   },
   "file_extension": ".py",
   "mimetype": "text/x-python",
   "name": "python",
   "nbconvert_exporter": "python",
   "pygments_lexer": "ipython3",
   "version": "3.4.3"
  }
 },
 "nbformat": 4,
 "nbformat_minor": 0
}
