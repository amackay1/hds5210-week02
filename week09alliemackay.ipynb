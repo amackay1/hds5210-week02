{
 "cells": [
  {
   "cell_type": "code",
   "execution_count": 1,
   "metadata": {
    "collapsed": true
   },
   "outputs": [],
   "source": [
    "import json"
   ]
  },
  {
   "cell_type": "markdown",
   "metadata": {},
   "source": [
    "1 - JSON for hospital information\n",
    "Take the list of information below and create a JSON structure that describes the same concept: a list of health systems, the hospitals in that system, and the attributes associated with each hospital.\n",
    "\n",
    "System    Hospital    City        Beds\n",
    "\n",
    "BJC       BJH         St. Louis   1432\n",
    "\n",
    "BJC       MOBap       Creve Coeur 1107\n",
    "\n",
    "SSM       SLUH        St. Louis   965\n",
    "\n",
    "Mercy     Mercy STL   Creve Coeur 983"
   ]
  },
  {
   "cell_type": "code",
   "execution_count": 2,
   "metadata": {
    "collapsed": false
   },
   "outputs": [
    {
     "name": "stdout",
     "output_type": "stream",
     "text": [
      "System\t\tHospital\t\tCity\t\tBeds\n",
      "BJC\t\tBJH\t\t\tSt.Louis\t\t1432\n",
      "BJC\t\tMoBap\t\t\tCreve Coeur\t\t1107\n",
      "SSM\t\tSLUH\t\t\tSt.Louis\t\t965\n",
      "Mercy\t\tMercy STL\t\tCreve Coeur\t\t983\n"
     ]
    }
   ],
   "source": [
    "print (\"System\\t\\tHospital\\t\\tCity\\t\\tBeds\")\n",
    "print (\"BJC\\t\\tBJH\\t\\t\\tSt.Louis\\t\\t1432\")\n",
    "print (\"BJC\\t\\tMoBap\\t\\t\\tCreve Coeur\\t\\t1107\")\n",
    "print (\"SSM\\t\\tSLUH\\t\\t\\tSt.Louis\\t\\t965\")\n",
    "print (\"Mercy\\t\\tMercy STL\\t\\tCreve Coeur\\t\\t983\")"
   ]
  },
  {
   "cell_type": "code",
   "execution_count": 3,
   "metadata": {
    "collapsed": false
   },
   "outputs": [],
   "source": [
    "hospitals = [\n",
    "    dict( System=\"BJC\", Hospital='BJH', City=\"St.Louis\", Beds=\"1432\"),\n",
    "    dict( System=\"BJC\", Hospital='MoBap', City=\"Creve Coeur\", Beds=\"1107\"),\n",
    "    dict( System=\"SSM\", Hospital='SLUH', City=\"St.Louis\", Beds=\"965\"),\n",
    "    dict( System=\"Mercy\",Hospital='Mercy STL', City=\"Creve Coeur\",Beds=\"983\")\n",
    "]\n",
    "\n",
    "with open (\"hospitals.json\" , \"w\") as file:\n",
    "    json.dump (hospitals, file, indent = 4)"
   ]
  },
  {
   "cell_type": "code",
   "execution_count": 4,
   "metadata": {
    "collapsed": false
   },
   "outputs": [
    {
     "name": "stdout",
     "output_type": "stream",
     "text": [
      "[\n",
      "    {\n",
      "        \"Hospital\": \"BJH\",\n",
      "        \"Beds\": \"1432\",\n",
      "        \"City\": \"St.Louis\",\n",
      "        \"System\": \"BJC\"\n",
      "    },\n",
      "    {\n",
      "        \"Hospital\": \"MoBap\",\n",
      "        \"Beds\": \"1107\",\n",
      "        \"City\": \"Creve Coeur\",\n",
      "        \"System\": \"BJC\"\n",
      "    },\n",
      "    {\n",
      "        \"Hospital\": \"SLUH\",\n",
      "        \"Beds\": \"965\",\n",
      "        \"City\": \"St.Louis\",\n",
      "        \"System\": \"SSM\"\n",
      "    },\n",
      "    {\n",
      "        \"Hospital\": \"Mercy STL\",\n",
      "        \"Beds\": \"983\",\n",
      "        \"City\": \"Creve Coeur\",\n",
      "        \"System\": \"Mercy\"\n",
      "    }\n",
      "]"
     ]
    }
   ],
   "source": [
    "%%bash\n",
    "cat hospitals.json"
   ]
  },
  {
   "cell_type": "markdown",
   "metadata": {},
   "source": [
    "2 - Total Beds per City\n",
    "Using your JSON structure as a starting point, compute the total number of beds per city and what percent of the total beds that represents. Deliver the results as a JSON structure.\n",
    "\n",
    "{ \n",
    "\n",
    "  'St. Louis': {\n",
    "  \n",
    "    'Total Beds': 2397,\n",
    "    \n",
    "    'Percent of Beds': 0.534\n",
    "    \n",
    "  },\n",
    "  \n",
    "  \n",
    "  'Creve Coeur': {\n",
    "  \n",
    "    'Total Beds': 2090,\n",
    "    \n",
    "    'Percent of Beds': 0.466\n",
    "    \n",
    "  }\n",
    "  \n",
    "}"
   ]
  },
  {
   "cell_type": "code",
   "execution_count": 22,
   "metadata": {
    "collapsed": false
   },
   "outputs": [
    {
     "ename": "KeyError",
     "evalue": "'St.Louis'",
     "output_type": "error",
     "traceback": [
      "\u001b[0;31m---------------------------------------------------------------------------\u001b[0m",
      "\u001b[0;31mKeyError\u001b[0m                                  Traceback (most recent call last)",
      "\u001b[0;32m<ipython-input-22-c665dc031408>\u001b[0m in \u001b[0;36m<module>\u001b[0;34m()\u001b[0m\n\u001b[1;32m     15\u001b[0m \u001b[0;32mfor\u001b[0m \u001b[0mi\u001b[0m \u001b[0;32min\u001b[0m \u001b[0mrange\u001b[0m\u001b[0;34m(\u001b[0m\u001b[0mlen\u001b[0m\u001b[0;34m(\u001b[0m\u001b[0mh\u001b[0m\u001b[0;34m)\u001b[0m\u001b[0;34m)\u001b[0m\u001b[0;34m:\u001b[0m\u001b[0;34m\u001b[0m\u001b[0m\n\u001b[1;32m     16\u001b[0m     \u001b[0msearchCity\u001b[0m \u001b[0;34m=\u001b[0m \u001b[0mh\u001b[0m\u001b[0;34m[\u001b[0m\u001b[0mi\u001b[0m\u001b[0;34m]\u001b[0m\u001b[0;34m[\u001b[0m\u001b[0;34m'City'\u001b[0m\u001b[0;34m]\u001b[0m\u001b[0;34m\u001b[0m\u001b[0m\n\u001b[0;32m---> 17\u001b[0;31m     \u001b[0mdict\u001b[0m\u001b[0;34m[\u001b[0m\u001b[0msearchCity\u001b[0m\u001b[0;34m]\u001b[0m\u001b[0;34m[\u001b[0m\u001b[0;34m'Total Beds'\u001b[0m\u001b[0;34m]\u001b[0m \u001b[0;34m+=\u001b[0m \u001b[0mint\u001b[0m\u001b[0;34m(\u001b[0m\u001b[0mh\u001b[0m\u001b[0;34m[\u001b[0m\u001b[0mi\u001b[0m\u001b[0;34m]\u001b[0m\u001b[0;34m[\u001b[0m\u001b[0;34m'beds'\u001b[0m\u001b[0;34m]\u001b[0m\u001b[0;34m)\u001b[0m\u001b[0;34m\u001b[0m\u001b[0m\n\u001b[0m\u001b[1;32m     18\u001b[0m     \u001b[0mdict\u001b[0m\u001b[0;34m[\u001b[0m\u001b[0msearchCity\u001b[0m\u001b[0;34m]\u001b[0m\u001b[0;34m[\u001b[0m\u001b[0;34m'Percent of Beds'\u001b[0m\u001b[0;34m]\u001b[0m \u001b[0;34m=\u001b[0m \u001b[0mround\u001b[0m\u001b[0;34m(\u001b[0m\u001b[0mdict\u001b[0m\u001b[0;34m[\u001b[0m\u001b[0msearchCity\u001b[0m\u001b[0;34m]\u001b[0m\u001b[0;34m[\u001b[0m\u001b[0;34m'Total Beds'\u001b[0m\u001b[0;34m]\u001b[0m\u001b[0;34m/\u001b[0m\u001b[0mresult\u001b[0m\u001b[0;34m,\u001b[0m\u001b[0;36m3\u001b[0m\u001b[0;34m)\u001b[0m\u001b[0;34m\u001b[0m\u001b[0m\n\u001b[1;32m     19\u001b[0m \u001b[0;34m\u001b[0m\u001b[0m\n",
      "\u001b[0;31mKeyError\u001b[0m: 'St.Louis'"
     ]
    }
   ],
   "source": [
    "import json\n",
    "with open ('hospitals.json') as file:\n",
    "    h=json.load(file)\n",
    "\n",
    "result = 0\n",
    "Cities = []\n",
    "dict = {}\n",
    "    \n",
    "for i in range(len(h)):\n",
    "    searchCity = h[i]['City']\n",
    "    if searchCity not in Cities:\n",
    "        Cities.append(searchCity)\n",
    "    result += int(h[i]['Beds'])\n",
    "\n",
    "for i in range(len(h)):\n",
    "    searchCity = h[i]['City']\n",
    "    dict[searchCity]['Total Beds'] += int(h[i]['beds'])\n",
    "    dict[searchCity]['Percent of Beds'] = round(dict[searchCity]['Total Beds']/result,3)\n",
    "    \n",
    "dict\n",
    " "
   ]
  },
  {
   "cell_type": "code",
   "execution_count": 19,
   "metadata": {
    "collapsed": false
   },
   "outputs": [
    {
     "data": {
      "text/plain": [
       "{'Creve Coeur': [{'Total Beds': 2397}, {'Percent of Beds': 0.466}],\n",
       " 'St.Louis': [{'Total Beds': 1432},\n",
       "  {'Total Beds': 2397},\n",
       "  {'Percent of Beds': 0.534}]}"
      ]
     },
     "execution_count": 19,
     "metadata": {},
     "output_type": "execute_result"
    }
   ],
   "source": [
    "import json\n",
    "with open ('hospitals.json') as file:\n",
    "    h=json.load(file)\n",
    "\n",
    "end = {'St.Louis':[],'Creve Coeur':[]}\n",
    "    \n",
    "bed1=0\n",
    "bed2=0\n",
    "\n",
    "for i in range(len(h)):\n",
    "    if (h[i]['City']) == 'St.Louis':\n",
    "        bed1 = bed1 + int(h[i]['Beds'])\n",
    "        end['St.Louis'].append({'Total Beds': bed1})\n",
    "    elif (h[i]['City']) == 'Creve Coeur':\n",
    "        bed2 = bed2 + int(h[i]['Beds'])\n",
    "end['Creve Coeur'].append({'Total Beds': bed1})\n",
    "a= bed1/ (bed1 + bed2)\n",
    "end['St.Louis'].append({'Percent of Beds': round (a,3)})\n",
    "b= bed2/ (bed1 + bed2)\n",
    "end['Creve Coeur'].append({'Percent of Beds': round (b,3)})\n",
    "\n",
    "end\n"
   ]
  },
  {
   "cell_type": "markdown",
   "metadata": {},
   "source": [
    "3 - Drug XML\n",
    "\n",
    "Create an XML structure that describes a set of drugs and the possible dosages they might have based on the table below.\n",
    "Create an element named <drug> for each drug entry.\n",
    "Make the name, dosage, units, and cost attributes of each drug. Note that the cost is the cost per pill rather than the cost mg.\n",
    "Make the count the text for that drug element.\n",
    "\n",
    "Name     Dosage    Units   Cost   Count\n",
    "\n",
    "Asprin   100       mg      0.10   320\n",
    "\n",
    "Asprin   200       mg      0.15   211\n",
    "\n",
    "Digoxin  10        mL      1.22   19\n",
    "\n",
    "Digoxin  20        mL      2.01   27"
   ]
  },
  {
   "cell_type": "code",
   "execution_count": 9,
   "metadata": {
    "collapsed": true
   },
   "outputs": [],
   "source": [
    "import xml.etree.ElementTree as xml\n",
    "\n",
    "drugs = \"\"\"<?xml version=\"1.0\"?>\n",
    "<drugs>\n",
    "    <drug name=\"Aspirin\" dosage=\"100\" units=\"mg\" cost=\"0.10\">Count=320</drug>\n",
    "    <drug name=\"Aspirin\" dosage=\"200\" units=\"mg\" cost=\"0.15\">Count=211</drug>\n",
    "    <drug name=\"Digoxin\" dosage=\"10\" units=\"mL\" cost=\"1.22\">Count=19</drug>\n",
    "    <drug name=\"Digoxin\" dosage=\"20\" units=\"mL\" cost=\"2.01\">Count=27</drug>\n",
    "</drugs>\n",
    "\"\"\"\n"
   ]
  },
  {
   "cell_type": "markdown",
   "metadata": {},
   "source": [
    "4 - Compute average cost per unit¶\n",
    "\n",
    "\n",
    "Read in your XML above and compute the total amount spend on each drug. Store the output in dictionary: { Asprin: 63.65, Digoxin: 77.45 }"
   ]
  },
  {
   "cell_type": "code",
   "execution_count": 17,
   "metadata": {
    "collapsed": false
   },
   "outputs": [
    {
     "ename": "AttributeError",
     "evalue": "'str' object has no attribute 'get'",
     "output_type": "error",
     "traceback": [
      "\u001b[0;31m---------------------------------------------------------------------------\u001b[0m",
      "\u001b[0;31mAttributeError\u001b[0m                            Traceback (most recent call last)",
      "\u001b[0;32m<ipython-input-17-ad0bf7b330ec>\u001b[0m in \u001b[0;36m<module>\u001b[0;34m()\u001b[0m\n\u001b[1;32m      5\u001b[0m \u001b[0;34m\u001b[0m\u001b[0m\n\u001b[1;32m      6\u001b[0m \u001b[0;32mfor\u001b[0m \u001b[0mchild\u001b[0m \u001b[0;32min\u001b[0m \u001b[0mdrugs\u001b[0m\u001b[0;34m:\u001b[0m\u001b[0;34m\u001b[0m\u001b[0m\n\u001b[0;32m----> 7\u001b[0;31m     \u001b[0mname\u001b[0m \u001b[0;34m=\u001b[0m \u001b[0mchild\u001b[0m\u001b[0;34m.\u001b[0m\u001b[0mget\u001b[0m\u001b[0;34m(\u001b[0m\u001b[0;34m'Name'\u001b[0m\u001b[0;34m)\u001b[0m\u001b[0;34m\u001b[0m\u001b[0m\n\u001b[0m\u001b[1;32m      8\u001b[0m     \u001b[0mtmp\u001b[0m \u001b[0;34m=\u001b[0m \u001b[0mchild\u001b[0m\u001b[0;34m.\u001b[0m\u001b[0mtext\u001b[0m\u001b[0;34m.\u001b[0m\u001b[0mfind\u001b[0m\u001b[0;34m(\u001b[0m\u001b[0;34m\"=\"\u001b[0m\u001b[0;34m)\u001b[0m\u001b[0;34m\u001b[0m\u001b[0m\n\u001b[1;32m      9\u001b[0m     \u001b[0mtmp_count\u001b[0m \u001b[0;34m=\u001b[0m \u001b[0mchild\u001b[0m\u001b[0;34m.\u001b[0m\u001b[0mtext\u001b[0m\u001b[0;34m[\u001b[0m\u001b[0mtmp\u001b[0m\u001b[0;34m+\u001b[0m\u001b[0;36m1\u001b[0m\u001b[0;34m:\u001b[0m\u001b[0;34m]\u001b[0m\u001b[0;34m\u001b[0m\u001b[0m\n",
      "\u001b[0;31mAttributeError\u001b[0m: 'str' object has no attribute 'get'"
     ]
    }
   ],
   "source": [
    "root = xml.fromstring(drugs)\n",
    "\n",
    "Asprin_count = 0\n",
    "Dixogin_count = 0\n",
    "\n",
    "for child in drugs:\n",
    "    name = child.get('Name')\n",
    "    tmp = child.text.find(\"=\")\n",
    "    tmp_count = child.text[tmp+1:]\n",
    "    float_count = float(tmp_count)\n",
    "    float_cost = float(child.get('cost'))\n",
    "    cost = (float_cost * float_count)\n",
    "    if 'Name' == 'Asprin':\n",
    "        Aspirin_count += cost \n",
    "        A_rounded = float(Asprin_count + (['Count']* ['Cost']))\n",
    "    if 'Name' == 'Digoxin':\n",
    "        Digoxin_count += cost\n",
    "        D_rounded = float(Digoxin_count + (['Count']* ['Cost']))\n",
    "\n",
    "average = {'Aspirin':A_rounded, 'Digoxin':D_rounded}\n",
    "\n",
    "print(average)\n",
    "    "
   ]
  },
  {
   "cell_type": "code",
   "execution_count": 20,
   "metadata": {
    "collapsed": false
   },
   "outputs": [
    {
     "name": "stdout",
     "output_type": "stream",
     "text": [
      "[master ba860be] Adding homework\n",
      " 1 file changed, 71 insertions(+), 21 deletions(-)\n"
     ]
    },
    {
     "name": "stderr",
     "output_type": "stream",
     "text": [
      "warning: push.default is unset; its implicit value has changed in\n",
      "Git 2.0 from 'matching' to 'simple'. To squelch this message\n",
      "and maintain the traditional behavior, use:\n",
      "\n",
      "  git config --global push.default matching\n",
      "\n",
      "To squelch this message and adopt the new behavior now, use:\n",
      "\n",
      "  git config --global push.default simple\n",
      "\n",
      "When push.default is set to 'matching', git will push local branches\n",
      "to the remote branches that already exist with the same name.\n",
      "\n",
      "Since Git 2.0, Git defaults to the more conservative 'simple'\n",
      "behavior, which only pushes the current branch to the corresponding\n",
      "remote branch that 'git pull' uses to update the current branch.\n",
      "\n",
      "See 'git help config' and search for 'push.default' for further information.\n",
      "(the 'simple' mode was introduced in Git 1.7.11. Use the similar mode\n",
      "'current' instead of 'simple' if you sometimes use older versions of Git)\n",
      "\n",
      "To git@github.com:amackay1/hds5210-week02.git\n",
      "   ee886ff..ba860be  master -> master\n"
     ]
    }
   ],
   "source": [
    "%%bash\n",
    "cd ~/notebooks/hds5210-week02/\n",
    "git add week09alliemackay.ipynb\n",
    "git commit -a -m \"Adding homework\"\n",
    "git push"
   ]
  },
  {
   "cell_type": "code",
   "execution_count": null,
   "metadata": {
    "collapsed": true
   },
   "outputs": [],
   "source": []
  }
 ],
 "metadata": {
  "kernelspec": {
   "display_name": "Python 3",
   "language": "python",
   "name": "python3"
  },
  "language_info": {
   "codemirror_mode": {
    "name": "ipython",
    "version": 3
   },
   "file_extension": ".py",
   "mimetype": "text/x-python",
   "name": "python",
   "nbconvert_exporter": "python",
   "pygments_lexer": "ipython3",
   "version": "3.4.3"
  }
 },
 "nbformat": 4,
 "nbformat_minor": 0
}
